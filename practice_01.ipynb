{
 "cells": [
  {
   "cell_type": "code",
   "execution_count": 2,
   "metadata": {},
   "outputs": [],
   "source": [
    "import numpy as np\n",
    "import pandas as pd\n",
    "import os\n",
    "import seaborn as sns\n",
    "import matplotlib.pyplot as plt \n",
    "%matplotlib inline\n",
    "import statsmodels.api as sm \n",
    "import patsy"
   ]
  },
  {
   "cell_type": "markdown",
   "metadata": {},
   "source": [
    "# Homework Assignment \\#1"
   ]
  },
  {
   "cell_type": "markdown",
   "metadata": {},
   "source": [
    "*due Thursday, February 15, 2018 at 12.45pm*"
   ]
  },
  {
   "cell_type": "markdown",
   "metadata": {},
   "source": [
    "### n.b.\n",
    "All deliverables are required to be typed and all graphs and statistical output generated in Jupyter Notebook using Python and associated packages. Deliverables with *any* handwritten elements will not be accepted and will receive a grade of zero. \n",
    "\n",
    "You are required to upload a ```ipynb``` file to **Canvas** as the deliverable. Use the ```homeowrk_01.ipynb``` file as a template and write the answers in text and include relevant code below each question. "
   ]
  },
  {
   "cell_type": "markdown",
   "metadata": {},
   "source": [
    "### Question 1"
   ]
  },
  {
   "cell_type": "markdown",
   "metadata": {},
   "source": [
    "In the SLR model, the probability distribution of $Y$ (i.e., $Y_i$) has the same mean and variance for all levels of $X$ (i.e., $X_i$). True or False? Explain."
   ]
  },
  {
   "cell_type": "markdown",
   "metadata": {
    "collapsed": true
   },
   "source": [
    "The probability distribution of Y has different mean values for different levels of X.\n",
    "\n",
    "The probability distributions of Y have the same variance, regardless of the level of the predictor variable X.\n",
    "\n",
    "Explaination:\n",
    "\n",
    "SLR model relationship equation is $Y_i = \\beta_0 + \\beta_1X_i + \\epsilon_i$\n",
    "Taking the expectation of the above equation, we have $E[Y_i] = \\beta_0 + \\beta_1X_i$, from the expectation result, we can see that the mean of Y is a straight line function of X, plus an error term or residual.\n",
    "\n",
    "Taking the variance of the above equation, we have $V[Y_i] = V[\\beta_0] + V[\\beta_1X_i] + V[\\epsilon_1] = V[\\epsilon_1] = \\sigma^2$, so the variance of Y tend to be a constant."
   ]
  },
  {
   "cell_type": "markdown",
   "metadata": {},
   "source": [
    "### Question 2"
   ]
  },
  {
   "cell_type": "markdown",
   "metadata": {},
   "source": [
    "The number of points above the fitted regression line is always equal to the number of points below it. True or False? Explain."
   ]
  },
  {
   "cell_type": "markdown",
   "metadata": {
    "collapsed": true
   },
   "source": [
    "False. If we are to plot a regression line by our own visual judgement of the points, we can end up with a line with equal number of points scattered above and below it. \n",
    "\n",
    "However, in SLR, we use ordinary least squares to fit the regression line, which means we are plotting a straight line so that the sum of the squares of the vertical distances of the data points from the line is minimum. \n",
    "In this way, there is no guarantee that the number of points above the fitted regression line is always equal to the number of points below it."
   ]
  },
  {
   "cell_type": "markdown",
   "metadata": {},
   "source": [
    "### Question 3"
   ]
  },
  {
   "cell_type": "markdown",
   "metadata": {},
   "source": [
    "In a SLR model, what does $\\beta_1$ measure?  "
   ]
  },
  {
   "cell_type": "markdown",
   "metadata": {
    "collapsed": true
   },
   "source": [
    "$\\beta_1$ is the slope of the regression line, indicating the amount that the Y variable (dependent) will change for each 1 unit change in the X variable. "
   ]
  },
  {
   "cell_type": "markdown",
   "metadata": {},
   "source": [
    "### Question 4"
   ]
  },
  {
   "cell_type": "markdown",
   "metadata": {},
   "source": [
    "In the context of an SLR model, prove the following:\n",
    "\n",
    "- $E[Y_i] = \\beta_0 + \\beta_1 X_i$ \n",
    "- $V(Y_i) = \\sigma^2 \\hspace{5pt} \\forall \\hspace{5pt} i$ "
   ]
  },
  {
   "cell_type": "markdown",
   "metadata": {
    "collapsed": true
   },
   "source": [
    "SLR model relationship equation: $Y_i = \\beta_0 + \\beta_1X_i + \\epsilon_i$\n",
    "\n",
    "Taking expectation on both sides of the above equation:\n",
    "\n",
    "$E[Y_i] = E[\\beta_0 + \\beta_1X_i + \\epsilon_i]$\n",
    "\n",
    "$E[Y_i] = E[\\beta_0] + E[\\beta_1X_i] + E[\\epsilon_i]$\n",
    "\n",
    "$E[Y_i] = \\beta_0 + \\beta_1E[X_i] + E[\\epsilon_i]$, \n",
    "\n",
    "since $E[\\epsilon_i|X_i] = 0$\n",
    "\n",
    "$E[Y_i] = \\beta_0 + \\beta_1X_i$\n",
    "\n",
    "Taking the variance of SLR model equation:\n",
    "\n",
    "$V[Y_i] = V[\\beta_0 + \\beta_1X_i + \\epsilon_i]$\n",
    "\n",
    "$V[Y_i] = V[\\beta_0] + V[\\beta_1X_i] + V[\\epsilon_i]$\n",
    "\n",
    "$V[Y_i] = V[\\epsilon_i] = \\sigma^2$\n",
    "\n",
    "$V[Y_i] = \\sigma^2$\n",
    "\n"
   ]
  },
  {
   "cell_type": "markdown",
   "metadata": {},
   "source": [
    "### Question 5"
   ]
  },
  {
   "cell_type": "markdown",
   "metadata": {},
   "source": [
    "For the SLR model, $Y_i = \\beta_0 + \\beta_1 X_i + \\epsilon_i$, how many random variables are there. Explain."
   ]
  },
  {
   "cell_type": "markdown",
   "metadata": {
    "collapsed": true
   },
   "source": [
    "Two. $Y_i$ and $\\epsilon_i$ are random variables.\n",
    "\n",
    "In the SLR model, $\\beta_0$ and $\\beta_1$ are parameters, $X_i$ is a known constant, $\\epsilon_i$ is a random error term. The constant term $\\beta_0 + \\beta_1x_i$ is the systematic part of $Y_i$, The random term $\\epsilon_i$ is the unsystematic part of $Y_i$."
   ]
  },
  {
   "cell_type": "markdown",
   "metadata": {},
   "source": [
    "### Question 7"
   ]
  },
  {
   "cell_type": "markdown",
   "metadata": {},
   "source": [
    "What does a negative value of $\\beta_1$ indicate about the relation between $X$ and $Y$?"
   ]
  },
  {
   "cell_type": "markdown",
   "metadata": {},
   "source": [
    "$$ b_0 = \\frac{1}{n} \\Big( \\sum Y_i - b_1 \\sum X_i \\Big) $$\n",
    "$$ b_1 = \\frac{\\sum (X_i - \\bar{X})(Y_i - \\bar{Y})}{\\sum (X_i - \\bar{X})^2}$$"
   ]
  },
  {
   "cell_type": "markdown",
   "metadata": {
    "collapsed": true
   },
   "source": [
    "If $\\beta_1$ is negative, then each one-unit increase in the explanatory variable X is associated with a fall in outcome of magnitude equal to the absolute value of $\\beta_1$."
   ]
  },
  {
   "cell_type": "markdown",
   "metadata": {},
   "source": [
    "### Question 8"
   ]
  },
  {
   "cell_type": "markdown",
   "metadata": {},
   "source": [
    "***DO NOT USE ANY REGRESSION FUNCTIONS OR REGRESSION PACKAGES FOR THIS PROBLEM***"
   ]
  },
  {
   "cell_type": "markdown",
   "metadata": {},
   "source": [
    "Using the following code"
   ]
  },
  {
   "cell_type": "code",
   "execution_count": 3,
   "metadata": {},
   "outputs": [],
   "source": [
    "x = np.random.uniform(9, 27, 1000)\n",
    "y = 0.5*x + np.random.uniform(-2, 2, 1000)\n",
    "myData = pd.DataFrame(pd.concat([pd.Series(x), pd.Series(y)], axis = 1))\n",
    "myData.rename(columns={0: \"x\", 1: \"y\"}, inplace = True)"
   ]
  },
  {
   "cell_type": "markdown",
   "metadata": {},
   "source": [
    "manually compute the coefficients $b_0$ and $b_1$ for the SLR model."
   ]
  },
  {
   "cell_type": "code",
   "execution_count": 4,
   "metadata": {
    "scrolled": true
   },
   "outputs": [
    {
     "name": "stdout",
     "output_type": "stream",
     "text": [
      "xmean 17.918230779979556\n",
      "ymean 9.011972323816096\n",
      "xsum 17918.230779979556\n",
      "ysum 9011.972323816095\n",
      "b1_denominator 26512.186772883728\n",
      "b1_numerator 13144.196987192496\n",
      "b1= 0.49577943531373225\n",
      "b0= 0.12848198589669482\n"
     ]
    }
   ],
   "source": [
    "#print(myData)\n",
    "xmean = np.mean(x)\n",
    "print(\"xmean\",xmean)\n",
    "ymean = np.mean(y)\n",
    "print(\"ymean\",ymean)\n",
    "xsum = np.sum(x)\n",
    "print(\"xsum\",xsum)\n",
    "ysum = np.sum(y)\n",
    "print(\"ysum\",ysum)\n",
    "b1_denominator = 0.0\n",
    "for xi in np.nditer(x):\n",
    "    b1_denominator = b1_denominator + (xi-xmean)*(xi-xmean)\n",
    "print(\"b1_denominator\",b1_denominator)\n",
    "b1_numerator = 0.0\n",
    "for xi, yi in np.nditer([x,y]):\n",
    "    b1_numerator = b1_numerator + (xi-xmean)*(yi-ymean)\n",
    "print(\"b1_numerator\",b1_numerator)\n",
    "b1 = b1_numerator/b1_denominator\n",
    "b0 = (ysum-b1*xsum)/len(x)\n",
    "print(\"b1=\",b1)\n",
    "print(\"b0=\",b0)"
   ]
  },
  {
   "cell_type": "markdown",
   "metadata": {},
   "source": [
    "### Question 10"
   ]
  },
  {
   "cell_type": "markdown",
   "metadata": {},
   "source": [
    "Are hypotheses tested concerning the actual values of the coefficients, e.g., $\\beta_1$, or their estimated values, e.g., $b_1$? Why?"
   ]
  },
  {
   "cell_type": "markdown",
   "metadata": {
    "collapsed": true
   },
   "source": [
    "Hypothesis tests concern the actural value of the coefficients, i.e. $\\beta_1$, not the estimated values $b_1$. Because the purpose of hyphthesis test is to make inference about values of population parameters. However, for the estimated values, we can calculated them by formula, so there is no need to use hypothesis tests to infer them."
   ]
  },
  {
   "cell_type": "markdown",
   "metadata": {},
   "source": [
    "### Question 13"
   ]
  },
  {
   "cell_type": "markdown",
   "metadata": {},
   "source": [
    "From the discussion of SLR so far, how do you believe outliers will effect the regression line? "
   ]
  },
  {
   "cell_type": "markdown",
   "metadata": {
    "collapsed": true
   },
   "source": [
    "We can compute the regression equation with and without the outlier points, if the SLR line changes dramatically, the outliers affect the regression line, i.e. they are influential points.\n",
    "\n",
    "There are two ways the outliers will affect the regression line: the slope of the regression line; and the value of coefficient of determination，removing outlier will incress the R value."
   ]
  },
  {
   "cell_type": "markdown",
   "metadata": {},
   "source": [
    "### Question 14"
   ]
  },
  {
   "cell_type": "markdown",
   "metadata": {},
   "source": [
    "Write out the hypothesis test which tests for the statistical significance of $\\beta_1$ for an SLR model. Be sure to include the null an alternate hypothesis, the critical value including degrees of freedom (two-tailed test) for $\\alpha = 0.05$ and an interpretation of both possible results. "
   ]
  },
  {
   "cell_type": "markdown",
   "metadata": {
    "collapsed": true
   },
   "source": [
    "The hypothesis test take the form\n",
    "\n",
    "$H_0 : \\beta_1 = 0$\n",
    "\n",
    "$H_a : \\beta_1 \\neq 0$\n",
    "\n",
    "If $\\beta_1$ is not statistically signigicantly different from zero, the implication is\n",
    "$E\\{Y\\} = \\beta_0 + (0)X = \\beta_0$\n",
    "\n",
    "For SLR, the sampling distribution of $b_1$ is normal, with mean and variance \n",
    "$E\\{b_1\\} = \\beta_1$, $\\sigma^2\\{b_1\\} = \\dfrac{\\sigma^2}{\\displaystyle\\sum_{i=1}^{n}{{X_i - \\overline{X}}}}$\n",
    "\n",
    "by replacing the parameter $\\sigma^2$ with MSE, the unbiased estimator of $\\sigma^2$ is $s^2\\{b_1\\} = \\dfrac{MSE}{\\displaystyle\\sum_{i=1}^{n}{{X_i - \\overline{X}}}}$\n",
    "\n",
    "Given $b_1$ is normally distributed, we know that the standardized statiscit $(b_1-\\beta_1)/\\sigma\\{b_1\\}$ is a standard normal variable, we need to estimate $\\sigma\\{b_1\\}$ by $s\\{b_1\\}$, and the studentized statistic $(b_1 - \\beta_1)/s\\{b_1\\} \\sim t_{(n-2)}$,\n",
    "\n",
    "We lose 2 degrees of freedom because we estimate $\\beta_0$ and $\\beta_1$ with $b_0$ and $b_1$.\n",
    "\n",
    "As the t distribution is symmetric around its mean of 0, it follows that $t_{(\\alpha/2;n-2)} = -t_{(1-\\alpha/2;n-2)}$,\n",
    "\n",
    "Since $(b_1 - \\beta_1)/s\\{b_1\\}$ follows a t distribution, we can make the following statement\n",
    "\n",
    "$P\\{b_1-t_{(1-\\alpha/2;n-2)}s\\{b_1\\} \\leq \\beta_1 \\leq \\{b_1 + t_{(1-\\alpha/2;n-2)}s\\{b_1\\}\\}\n",
    " = 1 - \\alpha$\n",
    " \n",
    "which holds for all possible values of $\\beta_1$, the $1-\\alpha$ confidence limits for $\\beta_1$ are $b_1 \\pm t_{(1-\\alpha/2;n-2)}s\\{b_1\\}$\n",
    "\n",
    "So the Two-Sided Test Concerning $\\beta_1$:\n",
    "\n",
    "$H_0 : \\beta_1 = 0$\n",
    "\n",
    "$H_a : \\beta_1 \\neq 0$\n",
    "\n",
    "$t^* = \\dfrac{b_1}{s\\{b_1\\}}$\n",
    "\n",
    "\n",
    "$|t^*| \\leq t_{(1-\\alpha/2,n-2)}$, do not reject $H_0$\n",
    "\n",
    "$|t^*| > t_{(1-\\alpha/2,n-2)}$, reject $H_0$\n",
    "\n",
    "given $\\alpha = 0.05$, we have \n",
    "\n",
    "$|t^*| \\leq t_{(0.975,n-2)}$, do not reject $H_0$\n",
    "\n",
    "$|t^*| > t_{(0.975,n-2)}$, reject $H_0$\n"
   ]
  },
  {
   "cell_type": "markdown",
   "metadata": {},
   "source": [
    "### Question 15"
   ]
  },
  {
   "cell_type": "markdown",
   "metadata": {},
   "source": [
    "Using ```modified_SENIC_data_01.csv```\n",
    "1. Regress Infection Risk ($Y$) on Length of Stay ($X$). Report the $R^2$, $b_0$ and $b_1$  values.\n",
    "2. Multiply the observations, both $X$ and $Y$, by 192; we will refer to these as $X_{(2)}$ and $Y_{(2)}$. Regress $Y_{(2)}$ on $X_{(2)}$. Report the $R^2$, $b_0$ and $b_1$  values.\n",
    "3. Multiply only $Y$ by 47; we will refer to this as $Y_{(3)}$. Regress $Y_{(3)}$ on $X$. Report the $R^2$, $b_0$ and $b_1$  values.\n",
    "4. Multiply only $X$ by 12; we will refer to this as $X_{(3)}$. Regress $Y$ on $X_{(3)}$. Report the $R^2$, $b_0$ and $b_1$  values.\n",
    "\n",
    "\n",
    "**Succinctly** explain what you have gleaned from this exercise. Include a summarized tabular representation of the regression output and the associated $R^2$, $b_0$ and $b_1$ values."
   ]
  },
  {
   "cell_type": "code",
   "execution_count": 5,
   "metadata": {
    "scrolled": false
   },
   "outputs": [
    {
     "name": "stdout",
     "output_type": "stream",
     "text": [
      "==== Regress Y ~ X ====\n",
      "b0=0.7443037459602998\n",
      "b1=0.3742168626809075\n",
      "R-squared=0.284562320773181\n",
      "\n",
      "==== Regress Y(2) ~ X(2) ====\n",
      "b0=142.90631922437797\n",
      "b1=0.37421686268090726\n",
      "R-squared=0.2845623207731809\n",
      "\n",
      "==== Regress Y(3) ~ X ====\n",
      "b0=34.98227606013408\n",
      "b1=17.58819254600264\n",
      "R-squared=0.2845623207731811\n",
      "\n",
      "==== Regress Y ~ X(3) ====\n",
      "b0=0.7443037459603022\n",
      "b1=0.03118473855674227\n",
      "R-squared=0.284562320773181\n"
     ]
    }
   ],
   "source": [
    "senicData = pd.read_csv('modified_SENIC_data_01.csv')\n",
    "senicOLSmodel = sm.OLS.from_formula('infectionRisk ~ lengthOfStay', senicData).fit()\n",
    "print(\"==== Regress Y ~ X ====\")\n",
    "print(\"b0={}\".format(senicOLSmodel.params[0]))\n",
    "print(\"b1={}\".format(senicOLSmodel.params[1]))\n",
    "print(\"R-squared={}\".format(senicOLSmodel.rsquared))\n",
    "#print(senicOLSmodel.summary())\n",
    "senicData2 = senicData.copy()\n",
    "senicData2.lengthOfStay = senicData2.lengthOfStay.apply(lambda x:x*192)\n",
    "senicData2.infectionRisk = senicData2.infectionRisk.apply(lambda y:y*192)\n",
    "senicOLSmodel = sm.OLS.from_formula('infectionRisk ~ lengthOfStay', senicData2).fit()\n",
    "print(\"\")\n",
    "print(\"==== Regress Y(2) ~ X(2) ====\")\n",
    "print(\"b0={}\".format(senicOLSmodel.params[0]))\n",
    "print(\"b1={}\".format(senicOLSmodel.params[1]))\n",
    "print(\"R-squared={}\".format(senicOLSmodel.rsquared))\n",
    "#print(senicOLSmodel.summary())\n",
    "senicData3 = senicData.copy()\n",
    "senicData3.infectionRisk = senicData3.infectionRisk.apply(lambda y:y*47)\n",
    "senicOLSmodel = sm.OLS.from_formula('infectionRisk ~ lengthOfStay', senicData3).fit()\n",
    "print(\"\")\n",
    "print(\"==== Regress Y(3) ~ X ====\")\n",
    "print(\"b0={}\".format(senicOLSmodel.params[0]))\n",
    "print(\"b1={}\".format(senicOLSmodel.params[1]))\n",
    "print(\"R-squared={}\".format(senicOLSmodel.rsquared))\n",
    "#print(senicOLSmodel.summary())\n",
    "senicData4 = senicData.copy()\n",
    "senicData4.lengthOfStay = senicData4.lengthOfStay.apply(lambda x:x*12)\n",
    "senicOLSmodel = sm.OLS.from_formula('infectionRisk ~ lengthOfStay', senicData4).fit()\n",
    "print(\"\")\n",
    "print(\"==== Regress Y ~ X(3) ====\")\n",
    "print(\"b0={}\".format(senicOLSmodel.params[0]))\n",
    "print(\"b1={}\".format(senicOLSmodel.params[1]))\n",
    "print(\"R-squared={}\".format(senicOLSmodel.rsquared))\n",
    "#print(senicOLSmodel.summary())"
   ]
  },
  {
   "cell_type": "markdown",
   "metadata": {},
   "source": [
    "##### Obeservation from the results of Question 15:\n",
    "\n",
    "| dataset | b0                 | b1                  | R-squared          |\n",
    "|---------|--------------------|---------------------|--------------------|\n",
    "| 1       | 0.7443037459602998 | 0.3742168626809075  | 0.284562320773181  |\n",
    "| 2       | 142.90631922437797 | 0.37421686268090726 | 0.2845623207731809 |\n",
    "| 3       | 34.98227606013408  | 17.58819254600264   | 0.2845623207731811 |\n",
    "| 4       | 0.7443037459603022 | 0.03118473855674227 | 0.284562320773181  |\n",
    "\n",
    "\n",
    "\n",
    "1. Multipling X and Y with same coefficient does not change the slope $b_1$ of regression line, but will affect the intercept $b_0$ value. Notice that 142.9 / 0.7443 = 192\n",
    "\n",
    "2. Only multipling Y with a positive value while keeping X unchanged increases the intercept $b_0$ and slope $b_1$ value at the same rate. Notice that 34.98/0.7443 = 17.59/0.3742 = 46.99\n",
    "\n",
    "3. Only multipling X with a positive value while keeping Y unchanged decreases the slope $b_1$ , but has no effect on intercept $b_0$. Notice that 0.3742/0.0331 = 12\n"
   ]
  },
  {
   "cell_type": "markdown",
   "metadata": {},
   "source": [
    "### Question 16"
   ]
  },
  {
   "cell_type": "markdown",
   "metadata": {},
   "source": [
    "Using the ```fourDataSets.csv```, regress $Y$ on $X$ for $i=1,2,3,4$, i.e., generate four separate SLR models. **For each** of the four data sets, run and report summary statistics, generate a scatter plot and run a SLR model, reporting the regression function $R^2$, $R_a^2$, and the significance of $b_1$ ($p$-value). Intelligently discuss what you observe about each data set and the data sets as a whole."
   ]
  },
  {
   "cell_type": "code",
   "execution_count": 6,
   "metadata": {
    "scrolled": false
   },
   "outputs": [
    {
     "name": "stdout",
     "output_type": "stream",
     "text": [
      "==== Regression for i = 1 ====\n",
      "R^2=0.666542459508775\n",
      "Ra^2=0.6294916216764166\n",
      "b0=3.000090909090909\n",
      "b1=0.5000909090909091\n",
      "p=0.002169628873078794\n",
      "==== Regression for i = 2 ====\n",
      "R^2=0.6662420337274844\n",
      "Ra^2=0.6291578152527604\n",
      "b0=3.0009090909090905\n",
      "b1=0.5\n",
      "p=0.0021788162369108005\n",
      "==== Regression for i = 3 ====\n",
      "R^2=0.6663240410665592\n",
      "Ra^2=0.6292489345183991\n",
      "b0=3.002454545454545\n",
      "b1=0.4997272727272729\n",
      "p=0.002176305279228019\n",
      "==== Regression for i = 4 ====\n",
      "R^2=0.6667072568984653\n",
      "Ra^2=0.6296747298871836\n",
      "b0=3.0017272727272712\n",
      "b1=0.4999090909090911\n",
      "p=0.0021646023471972183\n"
     ]
    },
    {
     "data": {
      "image/png": "[encoded data removed]",
      "text/plain": [
       "<matplotlib.figure.Figure at 0x113a2aac8>"
      ]
     },
     "metadata": {},
     "output_type": "display_data"
    },
    {
     "data": {
      "image/png": "[encoded data removed]",
      "text/plain": [
       "<matplotlib.figure.Figure at 0x113a2a438>"
      ]
     },
     "metadata": {},
     "output_type": "display_data"
    },
    {
     "data": {
      "image/png": "[encoded data removed]",
      "text/plain": [
       "<matplotlib.figure.Figure at 0x113b9a748>"
      ]
     },
     "metadata": {},
     "output_type": "display_data"
    },
    {
     "data": {
      "image/png": "[encoded data removed]",
      "text/plain": [
       "<matplotlib.figure.Figure at 0x113c5ef28>"
      ]
     },
     "metadata": {},
     "output_type": "display_data"
    }
   ],
   "source": [
    "data = pd.read_csv('fourDataSets.csv')\n",
    "data_idx = [1,2,3,4]\n",
    "for i in data_idx:\n",
    "    data_i = data[(data.dataSet==i)]\n",
    "    olsmodel = sm.OLS.from_formula('y ~ x', data_i)\n",
    "    resid = olsmodel.fit()\n",
    "    b0 = resid.params[0]\n",
    "    b1 = resid.params[1]\n",
    "    print(\"==== Regression for i = {} ====\".format(i))\n",
    "    xyplot = sns.lmplot(\"x\", \"y\", data=data_i, ci = None)\n",
    "    print(\"R^2={}\".format(resid.rsquared))\n",
    "    print(\"Ra^2={}\".format(resid.rsquared_adj))\n",
    "    print(\"b0={}\".format(resid.params[0]))\n",
    "    print(\"b1={}\".format(resid.params[1]))\n",
    "    print(\"p={}\".format(resid.pvalues[1]))\n",
    "    #print(resid.summary())  "
   ]
  },
  {
   "cell_type": "markdown",
   "metadata": {},
   "source": [
    "##### Observation on results of four data sets\n",
    "\n",
    "| dataset | b0      | b1     | R-squared | Adj-R-squared | p-value  |\n",
    "|---------|---------|--------|-----------|---------------|----------|\n",
    "| 1       | 3.00009 | 0.5000 | 0.6665    | 0.62949       | 0.002169 |\n",
    "| 2       | 3.00090 | 0.5    | 0.6662    | 0.62915       | 0.002178 |\n",
    "| 3       | 3.00245 | 0.4997 | 0.6663    | 0.62924       | 0.002176 |\n",
    "| 4       | 3.00172 | 0.4999 | 0.6667    | 0.62967       | 0.002164 |\n",
    "\n",
    "\n",
    "1. These four datasets have approximately same $R^2,R^2_a,\\beta_0,\\beta_1,p-value$, however, they have different types of data distribution patterns. The dataset_1 has a loosely scattered data points around the fitted regression line. The dataset_2 obviously better fits a non-linear regression model. The dataset_3 is best fitted by the regression line, with an outlier contributing to it. The dataset_4 does not comply with the regression model, regardless of the $R^2$ value being 0.667, which is considered not low. \n",
    "\n",
    "2. It is helpful to devide the entire dataset into sub datasets and analyze them separately. Different subsets of data can have different patterns of distributtion and behavior. Which enables us to get a comprehensive understanding of the whole dataset.\n"
   ]
  }
 ],
 "metadata": {
  "kernelspec": {
   "display_name": "Python 3",
   "language": "python",
   "name": "python3"
  },
  "language_info": {
   "codemirror_mode": {
    "name": "ipython",
    "version": 3
   },
   "file_extension": ".py",
   "mimetype": "text/x-python",
   "name": "python",
   "nbconvert_exporter": "python",
   "pygments_lexer": "ipython3",
   "version": "3.5.2"
  }
 },
 "nbformat": 4,
 "nbformat_minor": 2
}
