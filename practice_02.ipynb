{
 "cells": [
  {
   "cell_type": "code",
   "execution_count": 2,
   "metadata": {},
   "outputs": [
    {
     "name": "stderr",
     "output_type": "stream",
     "text": [
      "/usr/local/lib/python3.5/site-packages/statsmodels/compat/pandas.py:56: FutureWarning: The pandas.core.datetools module is deprecated and will be removed in a future version. Please use the pandas.tseries module instead.\n",
      "  from pandas.core import datetools\n"
     ]
    }
   ],
   "source": [
    "import numpy as np \n",
    "import pandas as pd\n",
    "import seaborn as sns\n",
    "import matplotlib.pyplot as plt \n",
    "%matplotlib inline\n",
    "import statsmodels.formula.api as smf \n",
    "import statsmodels.api as sm\n",
    "import os\n",
    "import scipy as sp\n",
    "from scipy import stats"
   ]
  },
  {
   "cell_type": "markdown",
   "metadata": {},
   "source": [
    "***"
   ]
  },
  {
   "cell_type": "markdown",
   "metadata": {},
   "source": [
    "<div class=\"alert alert-block alert-danger\">\n",
    "## *Xue Kang*"
   ]
  },
  {
   "cell_type": "markdown",
   "metadata": {},
   "source": [
    "***"
   ]
  },
  {
   "cell_type": "markdown",
   "metadata": {},
   "source": [
    "# Homework Assignment \\#2"
   ]
  },
  {
   "cell_type": "markdown",
   "metadata": {},
   "source": [
    "*due Thursday, February 22nd at 12.45pm*"
   ]
  },
  {
   "cell_type": "markdown",
   "metadata": {},
   "source": [
    "### n.b.\n",
    "All deliverables are required to be typed and all graphs and statistical output generated in Jupyter Notebook using Python and associated packages. Deliverables with *any* handwritten elements will not be accepted and will receive a grade of zero. \n",
    "\n",
    "You are required to upload a ```ipynb``` file to **Canvas** as the deliverable. Use the ```homework_02.ipynb``` file as a template and write the answers in text and include relevant code below each question. Print this document, double-sided, staple it, and hand it in on Thursday, February 22nd at 12.45pm at the beinning of class.  "
   ]
  },
  {
   "cell_type": "markdown",
   "metadata": {},
   "source": [
    "### Question 1"
   ]
  },
  {
   "cell_type": "markdown",
   "metadata": {
    "collapsed": true
   },
   "source": [
    "Maximum Likelihood Estimation (MLE) and Gradient Descent are two alternatives to Ordinary Least Squares that used to obtain estimates of the regression parameters. In fact, MLE and Gradient Descent are techniques often used in machine learning algorithms. Research and *briefly* discuss, both methods, their merits and their drawbacks. This answer should not exceed a page, and should probably not be shorter than a paragraph. Although the use of some light math is preferred, it is not required."
   ]
  },
  {
   "cell_type": "markdown",
   "metadata": {},
   "source": [
    "**Answer:**  \n",
    "\n",
    "   Maximum likelihood estimation is a general approach to estimating parameters in statistical models by maximizing the likelihood function defined as $L(\\theta|X)=f(X|\\theta)$, that is, the probability of obtaining data X given some value of parameter $\\theta$.  \n",
    "       \n",
    "   Knowing the likelihood function for a given problem you can look for such $\\theta$ that maximizes the probability of obtaining the data you have. Sometimes we have known estimators, e.g. arithmetic mean is an MLE estimator for $\\mu$ parameter for normal distribution, but in other cases you can use different methods that include using optimization algorithms. ML approach does not tell you how to find the optimal value of $\\theta$ -- you can simply take guesses and use the likelihood to compare which guess was better -- it just tells you how you can compare if one value of $\\theta$ is \"more likely\" than the other.  \n",
    "\n",
    "   Gradient descent is an optimization algorithm. You can use this algorithm to find maximum (or minimum) of many different functions, including the likelihood function. The algorithm does not really care what is the function that it maximizes, it just does what it was asked for. So with using optimization algorithm you have to know somehow how could you tell if one value of the parameter of interest is \"better\" than the other. You have to provide your algorithm some function to maximize and the algorithm will deal with finding its maximum.  \n",
    "        \n",
    "   You can obtain maximum likelihood estimates using different methods and using an optimization algorithm is one of them. On another hand, gradient descent can be also used to maximize functions other than likelihood function."
   ]
  },
  {
   "cell_type": "markdown",
   "metadata": {},
   "source": [
    "### Question 2"
   ]
  },
  {
   "cell_type": "markdown",
   "metadata": {
    "collapsed": true
   },
   "source": [
    "Import `pga_data.csv`, data on professional male golfers. Regress `AvgDrive` ($y$), the mean length of a golfer's drive in yards, against `DrvAcc` ($x$), the percentage of times a golfer is able to land their ball on the fairway when driving the ball.\n",
    "\n",
    "1. What is the equation of the fitted regression line?  \n",
    "    **The equation of the fitted regressoin line is $Y_i = -0.9516*X_i + 348.158$**\n",
    "\n",
    "2. Compute the sum of the residuals squared, i.e., $\\sum e_i^2$  \n",
    "    **$\\sum e_i^2$ = 8374.056375888411**\n",
    "\n",
    "3. Create four other regression models whereby you come up with your own values for $b_0$ and $b_1$. Compute the sum of squared residuals for each model and fill in the table below. When complete, examine the $\\sum e_i^2$ columna and comment on what you have learned/confirmed.\n",
    "\n",
    "| Model #1 | $b_0$ | $b_1$ | $\\sum e_i^2$ |\n",
    "|----------|-------|-------|--------------|\n",
    "|   OLS    |348.158|-0.9516| 8374.056     |\n",
    "|   1      |  1    |   1   | 9696833.09   |\n",
    "|   2      |  2    |  10   | 4408041.97   |\n",
    "|   3      |  100  |  50   | 659258.21    |\n",
    "|   4      |  20   |  60   | 28033868.61  |\n",
    "  \n",
    "  **As $b_1$ increases gradually, the $\\sum e_i^2$ value decreases, but when $b_1$ exceeds a certain threshold value, the $\\sum e_i^2$ value starts to increase dramatically.**\n",
    "\n"
   ]
  },
  {
   "cell_type": "code",
   "execution_count": 16,
   "metadata": {},
   "outputs": [
    {
     "name": "stdout",
     "output_type": "stream",
     "text": [
      "b0=348.15760961697424\n",
      "b1=-0.9516250664729603\n",
      "Sum of Residuals Squared = 8374.056375888411\n"
     ]
    }
   ],
   "source": [
    "pgaData = pd.read_csv('pga_data.csv')\n",
    "pgaOLSmodel = sm.OLS.from_formula('AvgDrive ~ DrvAcc', pgaData).fit()\n",
    "print(\"b0={}\".format(pgaOLSmodel.params[0]))\n",
    "print(\"b1={}\".format(pgaOLSmodel.params[1]))\n",
    "#SSE\n",
    "print(\"Sum of Residuals Squared = {}\".format(pgaOLSmodel.ssr))"
   ]
  },
  {
   "cell_type": "markdown",
   "metadata": {},
   "source": [
    "#### Questin 2.3 code and process"
   ]
  },
  {
   "cell_type": "code",
   "execution_count": 6,
   "metadata": {},
   "outputs": [
    {
     "name": "stdout",
     "output_type": "stream",
     "text": [
      "ssr1 = 9696833.09\n",
      "ssr2 = 4408041.970000001\n",
      "ssr3 = 659258.21\n",
      "ssr4 = 28033868.61\n"
     ]
    }
   ],
   "source": [
    "x_array = pgaData['DrvAcc']\n",
    "y_array = pgaData['AvgDrive']\n",
    "def line(x_array, b0, b1):      \n",
    "    return [b0+b1*x for x in x_array]\n",
    "def calc_ssr (y_array, y_hat_array):\n",
    "    y1 = np.array(y_array)\n",
    "    y2 = np.array(y_hat_array)\n",
    "    return np.sum((y1-y2) ** 2)\n",
    "\n",
    "y_hat_array1 = line(x_array, 1, 1)\n",
    "ssr1 = calc_ssr(y_array, y_hat_array1)\n",
    "print(\"ssr1 = {}\".format(ssr1))\n",
    "\n",
    "y_hat_array2 = line(x_array, 10, 2)\n",
    "ssr2 = calc_ssr(y_array, y_hat_array2)\n",
    "print(\"ssr2 = {}\".format(ssr2))\n",
    "\n",
    "y_hat_array3 = line(x_array, 15, 5)\n",
    "ssr3 = calc_ssr(y_array, y_hat_array3)\n",
    "print(\"ssr3 = {}\".format(ssr3))\n",
    "\n",
    "y_hat_array4 = line(x_array, 20, 10)\n",
    "ssr4 = calc_ssr(y_array, y_hat_array4)\n",
    "print(\"ssr4 = {}\".format(ssr4))"
   ]
  },
  {
   "cell_type": "markdown",
   "metadata": {},
   "source": [
    "### Question 3"
   ]
  },
  {
   "cell_type": "markdown",
   "metadata": {
    "collapsed": true
   },
   "source": [
    "Import `platsicHardness.txt`. The first column of data represents plastic hardness in Brinell units ($y$) and the second column data represents the number of hours elapsed since the plastic was molded ($x$). Run a SLR model along with all relevant diagnostics---do not include numerical/graphical output, just a basic summary, written or tabular, of what you found. Succinctly discuss what you observe. Do you observe any issues with the model?  \n",
    "    **Answer: According to the diagnostics result, the SLR model has small SSE value, large SSR value, large $R^2$ value, The model has large F-statistic and significant p-value, so from this aspect the model does a good job with our data.**\n",
    "\n",
    "Run a Brown-Forsythe test to determine whether or not the error variances varies with the level of $x$. Divide the data into two groups, $x \\leq 24$ and $x > 24$, and use $\\alpha = 0.05$. State the hypothesis test, decision rule, and the conclusion. Discuss this result in context of what you discovered earlier.  \n",
    "    **Answer: The hypothesis test is $H_0: \\sigma_1^2 = \\sigma_2^2$, $H_a : \\sigma_1^2 \\neq \\sigma_2^2$. The p-value of LeveneResult is greater than $\\alpha = 0.05$. Therefore, we do not reject the $H_0: \\sigma_1^2 = \\sigma_2^2$. So the residuals have homoscedasticity.**"
   ]
  },
  {
   "cell_type": "code",
   "execution_count": 7,
   "metadata": {},
   "outputs": [
    {
     "name": "stdout",
     "output_type": "stream",
     "text": [
      "SSE: 146.425\n",
      "SSR: 5297.5125\n",
      "SSTO: 5443.9375\n",
      "R-squared: 0.9731031078148858\n",
      "F-value: 506.5062318593136\n",
      "F-pvalue: 2.1588136825250703e-12\n"
     ]
    },
    {
     "data": {
      "text/plain": [
       "LeveneResult(statistic=0.7323685436484627, pvalue=0.40652533559298387)"
      ]
     },
     "execution_count": 7,
     "metadata": {},
     "output_type": "execute_result"
    }
   ],
   "source": [
    "plastic_data = pd.read_csv('plasticHardness.txt', delim_whitespace=True, header=None, names=['y', 'x'])\n",
    "olsmodel = sm.OLS.from_formula('y ~ x', plastic_data)\n",
    "res = olsmodel.fit()\n",
    "print('SSE: {}'.format(res.ssr))\n",
    "print('SSR: {}'.format(res.ess))\n",
    "print('SSTO: {}'.format(res.centered_tss))\n",
    "print('R-squared: {}'.format(res.rsquared))\n",
    "print('F-value: {}'.format(res.fvalue))\n",
    "print('F-pvalue: {}'.format(res.f_pvalue))\n",
    "#print(res.summary())\n",
    "beta0 = res.params[0]\n",
    "beta1 = res.params[1]\n",
    "# r1 = sns.residplot('x', 'y', data = plastic_data)\n",
    "# r1.set(xlabel=' (X)', ylabel='Residuals (e)')\n",
    "# sns.lmplot(\"x\", \"y\", data=plastic_data, ci = None)\n",
    "sample_1 = res.resid[plastic_data.x<=24]\n",
    "sample_2 = res.resid[plastic_data.x>24] \n",
    "sp.stats.levene(sample_1, sample_2, center = 'median')"
   ]
  },
  {
   "cell_type": "markdown",
   "metadata": {},
   "source": [
    "### Question 4"
   ]
  },
  {
   "cell_type": "markdown",
   "metadata": {
    "collapsed": true
   },
   "source": [
    "Import `copierMaintenanceData.csv`. Column 1 is $y$ and column 2 is $x$.\n",
    "\n",
    "$x$ are the number of photocopiers serviced by a service company at a given location, and $y$ are the total number of minutes spent by the service person. \n",
    "\n",
    "Answer the following questions.\n",
    "\n",
    "1. Obtain the OLS estimates of the parameters.  \n",
    "    **The parameters are:** $b_0=-0.5801566579634511,b_1=15.035248041775455$\n",
    "2. Write out the fitted regression equation.  \n",
    "    **The fitted regression equation is** $Y_i=-0.58016+15.03525*X_i$.\n",
    "3. What is the numerical value of $\\sum e_i^2$?  \n",
    "    **The numerical value of $\\sum e_i^2$ is 3416.377**\n",
    "4. Does $b_0$ provide any relevant information in this context?  \n",
    "    **$b_0$ is a negative value, which seems to imply when there are 0 copiers in service, the minutes spent by the service person is negative, which has no informative value to us.**\n",
    "5. Obtain a point estimate of the mean service time when 5 copiers are serviced.  \n",
    "    **Estimated time is 74.596084 min when 5 copiers are serviced.**\n",
    "6. Compute the confidence and prdiction intervals when 5 copiers are serviced.  \n",
    "    **The confidence interval is \\[71.914224 ~ 77.277943\\]**  \n",
    "    **The prediction interval is \\[56.421325 ~ 92.770842\\]**\n",
    "7. Test the hypothesis that $H_0: \\beta_1 = 0$ using a $t$ test. Show all work.  \n",
    "    **assume $\\alpha = 0.05$  \n",
    "      t_crit = 2.0166921941428138  \n",
    "      t_star = 31.1287784679089  \n",
    "      t_star > t_crit therefore reject null $H_0:\\beta_1 = 0$  \n",
    "      Using confidence intervals:  \n",
    "      95%CI = 14.061137670229021 ~ 16.00926232977098 \n",
    "      CI doest not contain zero, therefore can reject null $H_0:\\beta_1 = 0$  \n",
    "    **"
   ]
  },
  {
   "cell_type": "code",
   "execution_count": 8,
   "metadata": {
    "scrolled": true
   },
   "outputs": [
    {
     "name": "stdout",
     "output_type": "stream",
     "text": [
      "b0=-0.5801566579634511\n",
      "b1=15.035248041775455\n",
      "Sum of Residuals Squared = 3416.377023498696\n",
      "t_crit = 2.0166921941428138\n",
      "t_star = 31.1287784679089\n",
      "95%CI = 14.061137670229021 ~ 16.00926232977098\n"
     ]
    },
    {
     "data": {
      "text/html": [
       "<div>\n",
       "<style scoped>\n",
       "    .dataframe tbody tr th:only-of-type {\n",
       "        vertical-align: middle;\n",
       "    }\n",
       "\n",
       "    .dataframe tbody tr th {\n",
       "        vertical-align: top;\n",
       "    }\n",
       "\n",
       "    .dataframe thead th {\n",
       "        text-align: right;\n",
       "    }\n",
       "</style>\n",
       "<table border=\"1\" class=\"dataframe\">\n",
       "  <thead>\n",
       "    <tr style=\"text-align: right;\">\n",
       "      <th></th>\n",
       "      <th>mean</th>\n",
       "      <th>mean_se</th>\n",
       "      <th>mean_ci_lower</th>\n",
       "      <th>mean_ci_upper</th>\n",
       "      <th>obs_ci_lower</th>\n",
       "      <th>obs_ci_upper</th>\n",
       "    </tr>\n",
       "  </thead>\n",
       "  <tbody>\n",
       "    <tr>\n",
       "      <th>0</th>\n",
       "      <td>74.596084</td>\n",
       "      <td>1.329831</td>\n",
       "      <td>71.914224</td>\n",
       "      <td>77.277943</td>\n",
       "      <td>56.421325</td>\n",
       "      <td>92.770842</td>\n",
       "    </tr>\n",
       "  </tbody>\n",
       "</table>\n",
       "</div>"
      ],
      "text/plain": [
       "        mean   mean_se  mean_ci_lower  mean_ci_upper  obs_ci_lower  \\\n",
       "0  74.596084  1.329831      71.914224      77.277943     56.421325   \n",
       "\n",
       "   obs_ci_upper  \n",
       "0     92.770842  "
      ]
     },
     "execution_count": 8,
     "metadata": {},
     "output_type": "execute_result"
    }
   ],
   "source": [
    "cmdata = pd.read_csv('copierMaintenanceData.csv', header=None, names=['y', 'x'])\n",
    "cmOLSmodel = sm.OLS.from_formula('y ~ x', cmdata).fit()\n",
    "#print(cmdata.head(5))\n",
    "#print(cmdata.shape) -> get the # of rows = 45\n",
    "#xyplot = sns.lmplot(\"x\", \"y\", data=cmdata, ci = None)\n",
    "print(\"b0={}\".format(cmOLSmodel.params[0]))\n",
    "print(\"b1={}\".format(cmOLSmodel.params[1]))\n",
    "print(\"Sum of Residuals Squared = {}\".format(cmOLSmodel.ssr))\n",
    "#Test the hypothesis that  H0:β1=0  using a t test:\n",
    "cmOLSmodel.summary()\n",
    "print(\"t_crit = {}\".format(sp.stats.t.isf(.025,43)))\n",
    "print(\"t_star = {}\".format(15.0352/0.483))\n",
    "interval_left = 15.0352-sp.stats.t.isf(0.025,43)*0.483\n",
    "interval_right = 15.0352+sp.stats.t.isf(0.025,43)*0.483\n",
    "print(\"95%CI = {} ~ {}\".format(interval_left, interval_right))\n",
    "#confidence intervals\n",
    "cmOLSmodel.get_prediction({'x':[5]}).summary_frame(alpha=0.05)"
   ]
  },
  {
   "cell_type": "markdown",
   "metadata": {},
   "source": [
    "### Question 5"
   ]
  },
  {
   "cell_type": "markdown",
   "metadata": {
    "collapsed": true
   },
   "source": [
    "1. Create a vector of 10,000,000 random variables $\\sim \\mathcal{U}\\{0,1\\}$ and store them in the list called `myRndUnif`. Randomly sample 100,000 values `myRndUnif` from this vector and create a histogram from the sample. What is the distribution of the sample (visually)? Repeat this exercise a few more times, if necessary, to convince yourself that when randomly sampling from a $\\mathcal{U}\\{a,b\\}$ distribution, the sample is also $\\sim \\mathcal{U}\\{a,b\\}$.\n",
    "    \n",
    "2. Randomly sample 100,000 **pairs** of values (groups of 2), and create a histogram of the mean of these samples. What does the distribution look like?\n",
    "\n",
    "3. Randomly sample 100,000 **groups of five values**, and create a histogram of the mean of these samples. What does the distribution look like?\n",
    "\n",
    "4. Randomly sample 100,000 **groups of ten values**, and create a histogram of the mean of these samples. What does the distribution look like?\n",
    "\n",
    "5. Randomly sample 100,000 **groups of thirty values**, and create a histogram of the mean of these samples. What does the distribution look like?\n",
    "\n",
    "6. Repeat steps 1 through 5 using an **exponential distribution**."
   ]
  },
  {
   "cell_type": "markdown",
   "metadata": {},
   "source": [
    "#### Answer 5\n",
    "\n",
    "1. The distribution of the sample is a **rectangle** (visually) with a randomly fluctuated upper edge.\n",
    "\n",
    "2. The distribution looks like a **triangle**.\n",
    "\n",
    "3. The distribution looks like a **normal distribution**.\n",
    "\n",
    "4. The distribution looks like a **normal distribution**.\n",
    "\n",
    "5. The distribution looks like a **normal distribution**.\n",
    "\n",
    "6. The distributions look like a **exponential distribution** at first, then as the size of group increases, the distribution starts to lean towards a **normal distribution**.  "
   ]
  },
  {
   "cell_type": "code",
   "execution_count": 47,
   "metadata": {
    "scrolled": true
   },
   "outputs": [
    {
     "data": {
      "image/png": "[encoded data removed]",
      "text/plain": [
       "<matplotlib.figure.Figure at 0x10a42be10>"
      ]
     },
     "metadata": {},
     "output_type": "display_data"
    },
    {
     "data": {
      "image/png": "[encoded data removed]",
      "text/plain": [
       "<matplotlib.figure.Figure at 0x11048cf28>"
      ]
     },
     "metadata": {},
     "output_type": "display_data"
    },
    {
     "data": {
      "image/png": "[encoded data removed]",
      "text/plain": [
       "<matplotlib.figure.Figure at 0x10f34d390>"
      ]
     },
     "metadata": {},
     "output_type": "display_data"
    },
    {
     "data": {
      "image/png": "[encoded data removed]",
      "text/plain": [
       "<matplotlib.figure.Figure at 0x111619240>"
      ]
     },
     "metadata": {},
     "output_type": "display_data"
    },
    {
     "data": {
      "image/png": "[encoded data removed]",
      "text/plain": [
       "<matplotlib.figure.Figure at 0x10fca8470>"
      ]
     },
     "metadata": {},
     "output_type": "display_data"
    }
   ],
   "source": [
    "from numpy import random\n",
    "myRndUnif = np.random.uniform(0,1,10000000)\n",
    "sample1 = random.choice(myRndUnif,100000)\n",
    "#np.histogram(sample1)\n",
    "plt.hist(sample1, bins='auto')\n",
    "plt.title(\"Histogram of sample for Uniform\")\n",
    "plt.show()\n",
    "\n",
    "sample2 = random.choice(myRndUnif,size=(100000,2))\n",
    "#print(sample2[0:5])\n",
    "sample2df = pd.DataFrame(sample2)\n",
    "mean_series2 = sample2df.mean(1)\n",
    "plt.hist(mean_series2, bins='auto')\n",
    "plt.title(\"Histogram of Group_OF_2 mean values Uniform\")\n",
    "plt.show()\n",
    "\n",
    "sample3 = random.choice(myRndUnif,size=(100000,5))\n",
    "sample3df = pd.DataFrame(sample3)\n",
    "mean_series3 = sample3df.mean(1)\n",
    "plt.hist(mean_series3, bins='auto')\n",
    "plt.title(\"Histogram of Group_OF_5 mean values Uniform\")\n",
    "plt.show()\n",
    "\n",
    "sample4 = random.choice(myRndUnif,size=(100000,10))\n",
    "sample4df = pd.DataFrame(sample4)\n",
    "mean_series4 = sample4df.mean(1)\n",
    "plt.hist(mean_series4, bins='auto')\n",
    "plt.title(\"Histogram of Group_OF_10 mean values Uniform\")\n",
    "plt.show()\n",
    "\n",
    "sample5 = random.choice(myRndUnif,size=(100000,30))\n",
    "sample5df = pd.DataFrame(sample5)\n",
    "mean_series5 = sample5df.mean(1)\n",
    "plt.hist(mean_series5, bins='auto')\n",
    "plt.title(\"Histogram of Group_OF_30 mean values Uniform\")\n",
    "plt.show()"
   ]
  },
  {
   "cell_type": "code",
   "execution_count": 48,
   "metadata": {
    "scrolled": true
   },
   "outputs": [
    {
     "data": {
      "image/png": "[encoded data removed]",
      "text/plain": [
       "<matplotlib.figure.Figure at 0x10ab16b00>"
      ]
     },
     "metadata": {},
     "output_type": "display_data"
    },
    {
     "data": {
      "image/png": "[encoded data removed]",
      "text/plain": [
       "<matplotlib.figure.Figure at 0x1104d0d68>"
      ]
     },
     "metadata": {},
     "output_type": "display_data"
    },
    {
     "data": {
      "image/png": "[encoded data removed]",
      "text/plain": [
       "<matplotlib.figure.Figure at 0x10fb32240>"
      ]
     },
     "metadata": {},
     "output_type": "display_data"
    },
    {
     "data": {
      "image/png": "[encoded data removed]",
      "text/plain": [
       "<matplotlib.figure.Figure at 0x111681128>"
      ]
     },
     "metadata": {},
     "output_type": "display_data"
    },
    {
     "data": {
      "image/png": "[encoded data removed]",
      "text/plain": [
       "<matplotlib.figure.Figure at 0x10f610d68>"
      ]
     },
     "metadata": {},
     "output_type": "display_data"
    }
   ],
   "source": [
    "myRndExp = np.random.exponential(3.0,10000000)\n",
    "sample_1e = random.choice(myRndExp,100000)\n",
    "#np.histogram(sample)\n",
    "plt.hist(sample_1e, bins='auto')\n",
    "plt.title(\"Histogram of sample with 'auto' bins Exponential\")\n",
    "plt.show()\n",
    "\n",
    "sample_2e = random.choice(myRndExp,size=(100000,2))#sample2 of exponential distribution\n",
    "sample_2e_df = pd.DataFrame(sample_2e)\n",
    "mean_series_2e = sample_2e_df.mean(1)\n",
    "plt.hist(mean_series_2e, bins='auto')\n",
    "plt.title(\"Histogram of Group_OF_2 mean values for Exponential\")\n",
    "plt.show()\n",
    "\n",
    "sample_3e = random.choice(myRndExp,size=(100000,5))#sample2 of exponential distribution\n",
    "sample_3e_df = pd.DataFrame(sample_3e)\n",
    "mean_series_3e = sample_3e_df.mean(1)\n",
    "plt.hist(mean_series_3e, bins='auto')\n",
    "plt.title(\"Histogram of Group_OF_5 mean values for Exponential\")\n",
    "plt.show()\n",
    "\n",
    "sample_4e = random.choice(myRndExp,size=(100000,10))#sample2 of exponential distribution\n",
    "sample_4e_df = pd.DataFrame(sample_4e)\n",
    "mean_series_4e = sample_4e_df.mean(1)\n",
    "plt.hist(mean_series_4e, bins='auto')\n",
    "plt.title(\"Histogram of Group_OF_10 mean values for Exponential\")\n",
    "plt.show()\n",
    "\n",
    "sample_5e = random.choice(myRndExp,size=(100000,30))#sample2 of exponential distribution\n",
    "sample_5e_df = pd.DataFrame(sample_5e)\n",
    "mean_series_5e = sample_5e_df.mean(1)\n",
    "plt.hist(mean_series_5e, bins='auto')\n",
    "plt.title(\"Histogram of Group_OF_30 mean values for Exponential\")\n",
    "plt.show()"
   ]
  },
  {
   "cell_type": "markdown",
   "metadata": {},
   "source": [
    "### Question 6"
   ]
  },
  {
   "cell_type": "markdown",
   "metadata": {
    "collapsed": true
   },
   "source": [
    "You compute a coefficient of determination for a regression model an obtain an $R^2=0.832$. What does the strength of the coefficient of determination say about the causal relationship between the explanatory and response variables?"
   ]
  },
  {
   "cell_type": "markdown",
   "metadata": {},
   "source": [
    "**Answer:**  \n",
    "    The R-squared value **does not** indicate that the explanatory variable x causes any change in the response variable y. So we can not conclude any causal relationship from this $R^2$ = 0.832. high $R^2$ does not imply that good predictions can be made.  \n",
    "    Moreover, although larger $R^2$ is better than smaller $R^2$, high $R^2$ does not imply that the estimated regression line is a good fit, we need to take consideration of multiple diagonostics results in order to assess a model."
   ]
  },
  {
   "cell_type": "markdown",
   "metadata": {},
   "source": [
    "### Question 7"
   ]
  },
  {
   "cell_type": "markdown",
   "metadata": {
    "collapsed": true
   },
   "source": [
    "When testing for the normality of residuals, I suggested you use a normality test such as the Shapiro-Wilk test. \n",
    "\n",
    "1. Read the entry at the following link: https://www.r-bloggers.com/normality-tests-don%E2%80%99t-do-what-you-think-they-do/\n",
    "\n",
    "2. Generate 10,000 standard normal random variates, and run a Shapiro-Wilk test on them to test for normality, using the Shapiro Wilk test in in the `SciPy` package. Why does this fail? What internal limitations are included in `scipy.stats.shapiro()` to ensure that the problems described in the URL above don't occur?  \n",
    "    **Discussion:**   \n",
    "      The Shapiro-Wilk hyposthesis test is $H_0:normally distributed data$,$H_a:non-normally distributed data$, where a p-value < $\\alpha$ is a rejection of the null hypothesis.   \n",
    "      When running the scipy.stats.shipro() on my randomly generated data, every time the code is run, different p-values are generated as the data is randomly generated, but the p-value is greater than 0.05 for most of the time, thus we do not reject the null hypothesis.  \n",
    "      In the sp.stats.shapiro() function, p-value may not be accurate for N > 5000.   \n",
    "      From the URL we know: \"The problem is that when the sample size is small, even big departures from normality are not detected, and when your sample size is large, even the smallest deviation from normality will lead to a rejected null.\" And in the case of this question, firstly we have a sample size of 10000 which is pretty large, and the sample data are gererated with standard normal random method, so it makes sense that the null hypothesis are not rejected."
   ]
  },
  {
   "cell_type": "code",
   "execution_count": 45,
   "metadata": {},
   "outputs": [
    {
     "name": "stdout",
     "output_type": "stream",
     "text": [
      "0.8438358306884766\n"
     ]
    },
    {
     "name": "stderr",
     "output_type": "stream",
     "text": [
      "/usr/local/lib/python3.5/site-packages/scipy/stats/morestats.py:1310: UserWarning: p-value may not be accurate for N > 5000.\n",
      "  warnings.warn(\"p-value may not be accurate for N > 5000.\")\n"
     ]
    }
   ],
   "source": [
    "import pylab\n",
    "array = np.random.normal(0,1,10000)\n",
    "print(sp.stats.shapiro(array)[1])\n",
    "#sp.stats.probplot(array, dist=\"norm\", plot = pylab)"
   ]
  },
  {
   "cell_type": "markdown",
   "metadata": {},
   "source": [
    "### Question 8"
   ]
  },
  {
   "cell_type": "markdown",
   "metadata": {
    "collapsed": true
   },
   "source": [
    "Import `pga_data.csv`, data on professional male golfers. Regress `AvgDrive` ($y$), the mean length of a golfer's drive in yards, against `DrvAcc` ($x$), the percentage of times a golfer is able to land their ball on the fairway when driving the ball. Manually code up a numerical Box-Cox search procedure for $\\lambda \\in [-5, 5]$ in increments of 0.1 to find the $\\lambda$ that minimizes SSE for this model. Create a graph with $\\lambda$ on the $x$-axis and $SSE_{\\lambda}$ on the $y$-axis. Report the $\\lambda$ that minimizes SSE for this model."
   ]
  },
  {
   "cell_type": "code",
   "execution_count": 3,
   "metadata": {},
   "outputs": [
    {
     "data": {
      "image/png": "[encoded data removed]",
      "text/plain": [
       "<matplotlib.figure.Figure at 0x109776f28>"
      ]
     },
     "metadata": {},
     "output_type": "display_data"
    },
    {
     "name": "stdout",
     "output_type": "stream",
     "text": [
      "minimum SSE is 28475.879475073307, when lambda is 4.899999999999965\n"
     ]
    }
   ],
   "source": [
    "pga_data = pd.read_csv('pga_data.csv')\n",
    "Y = pga_data['AvgDrive']\n",
    "X = pga_data['DrvAcc']\n",
    "epislon = 1e-10\n",
    "lamb_array = np.arange(-5, 5, 0.1)\n",
    "sse_array = []\n",
    "for lamb in lamb_array:\n",
    "    K2 = sp.stats.mstats.gmean(Y)\n",
    "    K1 = 1/(lamb*(K2**(lamb-1)))\n",
    "    W = K1 * (Y ** lamb - 1)\n",
    "    if abs(lamb) < epislon:\n",
    "        W = K2 * np.log(Y)\n",
    "    lsmodel = sm.OLS(W, X)\n",
    "    res = lsmodel.fit()\n",
    "    sse_array.append(res.ssr)\n",
    "fig = plt.figure()\n",
    "ax = fig.add_subplot(111)\n",
    "ax.scatter(lamb_array, sse_array, color='darkblue', linewidth=0.1)\n",
    "ax.set_xlabel('lambda')\n",
    "ax.set_ylabel('SSE')\n",
    "ax.set_title('SSE vs. lambda')\n",
    "plt.show()\n",
    "min_idx = np.argmin(sse_array)\n",
    "best_lamb = lamb_array[min_idx]\n",
    "min_sse = sse_array[min_idx]\n",
    "print(\"minimum SSE is {}, when lambda is {}\".format(min_sse, best_lamb))\n",
    "# df = pd.DataFrame({'lamda':lamb_array, 'SSE':sse_array})\n",
    "# df.plot('lamda', 'SSE', kind='scatter')"
   ]
  },
  {
   "cell_type": "code",
   "execution_count": null,
   "metadata": {},
   "outputs": [],
   "source": []
  }
 ],
 "metadata": {
  "kernelspec": {
   "display_name": "Python 3",
   "language": "python",
   "name": "python3"
  },
  "language_info": {
   "codemirror_mode": {
    "name": "ipython",
    "version": 3
   },
   "file_extension": ".py",
   "mimetype": "text/x-python",
   "name": "python",
   "nbconvert_exporter": "python",
   "pygments_lexer": "ipython3",
   "version": "3.5.2"
  }
 },
 "nbformat": 4,
 "nbformat_minor": 2
}
