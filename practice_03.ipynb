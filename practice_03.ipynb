{
 "cells": [
  {
   "cell_type": "code",
   "execution_count": 90,
   "metadata": {},
   "outputs": [],
   "source": [
    "import numpy as np \n",
    "import pandas as pd\n",
    "import seaborn as sns\n",
    "import matplotlib.pyplot as plt \n",
    "%matplotlib inline\n",
    "import statsmodels.formula.api as smf \n",
    "import statsmodels.api as sm\n",
    "import os"
   ]
  },
  {
   "cell_type": "markdown",
   "metadata": {},
   "source": [
    "<div class=\"alert alert-block alert-danger\">\n",
    "## *Xue Kang* <-----"
   ]
  },
  {
   "cell_type": "markdown",
   "metadata": {},
   "source": [
    "***"
   ]
  },
  {
   "cell_type": "markdown",
   "metadata": {},
   "source": [
    "# Homework Assignment \\#3"
   ]
  },
  {
   "cell_type": "markdown",
   "metadata": {},
   "source": [
    "*due Thursday, March 6th, 2018 at 12.45pm*"
   ]
  },
  {
   "cell_type": "markdown",
   "metadata": {},
   "source": [
    "### n.b.\n",
    "All deliverables are required to be typed and all graphs and statistical output generated in Jupyter Notebook using Python and associated packages. Deliverables with *any* handwritten elements will not be accepted and will receive a grade of zero. \n",
    "\n",
    "You are required to upload a ```ipynb``` file to **Canvas** as the deliverable. Use the ```homework_03.ipynb``` file as a template and write the answers in text and include relevant code below each question. Print this document, double-sided, staple it, and hand it in on Thursday, March 6th, 2018, at 12.45pm at the beinning of class.  "
   ]
  },
  {
   "cell_type": "markdown",
   "metadata": {},
   "source": [
    "### Question 1"
   ]
  },
  {
   "cell_type": "markdown",
   "metadata": {
    "collapsed": true
   },
   "source": [
    "*Preamble to Question #1*"
   ]
  },
  {
   "cell_type": "code",
   "execution_count": 50,
   "metadata": {},
   "outputs": [],
   "source": [
    "faithfulData = sm.datasets.get_rdataset(\"faithful\")\n",
    "df_faithfulData = pd.DataFrame(faithfulData.data)"
   ]
  },
  {
   "cell_type": "markdown",
   "metadata": {},
   "source": [
    "***"
   ]
  },
  {
   "cell_type": "markdown",
   "metadata": {},
   "source": [
    "The `faithful` data set consists of the waiting time between eruptions and the duration of the eruption for the Old Faithful geyser in Yellowstone National Park, Wyoming, USA. Regress `waiting` on `eruptions` and evalute the model in totality, i.e., evaluate the quality of the model, citing specific metrics, as well as validating necessary assumptions for the normal error regression model. Discuss, in detail, your approach and your evaluation of the model. Include all appropriate graphs *and*, if hypothesis tests are run, be certain to include all test details (null and alternative hypotheses, decision rules, $p$-values and conclusions)."
   ]
  },
  {
   "cell_type": "markdown",
   "metadata": {},
   "source": [
    "**(1) generate a scatter plot, plot the estimated regression function and verify the linearity of the relationship:**  \n",
    "According to a visually check of the scatter plot below, there are two dense clusters of data points locating in the eruptions range of 1.5 ~ 2.5 and 3.7 ~ 4.9, and a sparse data points locating in the range of 2.8 ~ 3.6, however, it can be observed that the overall scattering of the data points falls between two parallel lines around the fitting line. "
   ]
  },
  {
   "cell_type": "code",
   "execution_count": 51,
   "metadata": {
    "scrolled": true
   },
   "outputs": [
    {
     "data": {
      "image/png": "[encoded data removed]",
      "text/plain": [
       "<matplotlib.figure.Figure at 0x10ec71160>"
      ]
     },
     "metadata": {},
     "output_type": "display_data"
    }
   ],
   "source": [
    "weplot = sns.lmplot(\"eruptions\", \"waiting\", data=df_faithfulData, ci = None)"
   ]
  },
  {
   "cell_type": "markdown",
   "metadata": {},
   "source": [
    "**(2) Print the regression summary, p_value of the test for $\\beta_1$, SSE, SSR **   \n",
    "Noticing that R-squared = 0.811 which is high enough to indicate the quality of our model.  \n",
    "However, more evidence is needed to evaluate the model. \n",
    "From the regression result, we have $b_1 = 10.7296$ with corresponding $p\\_value = 8.129959e-100 < 0.05$, which means we can reject the Null hypothesis $H_0 : β1 = 0$, thus we conclude there is sufficient evidence to say that there is a linear relationship in the population between the eruptions and waiting.  "
   ]
  },
  {
   "cell_type": "code",
   "execution_count": 52,
   "metadata": {},
   "outputs": [
    {
     "name": "stdout",
     "output_type": "stream",
     "text": [
      "                            OLS Regression Results                            \n",
      "==============================================================================\n",
      "Dep. Variable:                waiting   R-squared:                       0.811\n",
      "Model:                            OLS   Adj. R-squared:                  0.811\n",
      "Method:                 Least Squares   F-statistic:                     1162.\n",
      "Date:                Mon, 05 Mar 2018   Prob (F-statistic):          8.13e-100\n",
      "Time:                        22:47:34   Log-Likelihood:                -868.38\n",
      "No. Observations:                 272   AIC:                             1741.\n",
      "Df Residuals:                     270   BIC:                             1748.\n",
      "Df Model:                           1                                         \n",
      "Covariance Type:            nonrobust                                         \n",
      "==============================================================================\n",
      "                 coef    std err          t      P>|t|      [0.025      0.975]\n",
      "------------------------------------------------------------------------------\n",
      "Intercept     33.4744      1.155     28.985      0.000      31.201      35.748\n",
      "eruptions     10.7296      0.315     34.089      0.000      10.110      11.349\n",
      "==============================================================================\n",
      "Omnibus:                        5.492   Durbin-Watson:                   2.543\n",
      "Prob(Omnibus):                  0.064   Jarque-Bera (JB):                4.683\n",
      "Skew:                           0.237   Prob(JB):                       0.0962\n",
      "Kurtosis:                       2.567   Cond. No.                         12.6\n",
      "==============================================================================\n",
      "\n",
      "Warnings:\n",
      "[1] Standard Errors assume that the covariance matrix of the errors is correctly specified.\n",
      "The coefficients and their associated p-values:\n",
      "Intercept    33.474397\n",
      "eruptions    10.729641\n",
      "dtype: float64\n",
      "Intercept     7.136015e-85\n",
      "eruptions    8.129959e-100\n",
      "dtype: float64\n"
     ]
    }
   ],
   "source": [
    "faithfulOLSmodel = sm.OLS.from_formula('waiting ~ eruptions', df_faithfulData).fit()\n",
    "print(faithfulOLSmodel.summary())\n",
    "print(\"The coefficients and their associated p-values:\")\n",
    "print(faithfulOLSmodel.params)\n",
    "print(faithfulOLSmodel.pvalues)"
   ]
  },
  {
   "cell_type": "markdown",
   "metadata": {},
   "source": [
    "**(3) Print the ANOVA table and examine F value with F_pvalue**  \n",
    "Conduct a F-test for the slope parameter $\\beta_1$:  \n",
    "The null hypothesis is $H_0: \\beta_1 = 0$.  \n",
    "The alternative hypothesis is $H_a: \\beta_1 \\neq 0$.  \n",
    "The test statistic is $F^*=MSR/MSE$.  \n",
    "The $Fvalue = 1162.062638$ with the $F\\_pvalue = 8.129959e-100 << \\alpha$, thus we reject the null hypothesis of $H_0: \\beta_1 = 0$, and conclude that there is a linear relationship in the population between the eruptions and waiting.   \n",
    "Besides, SSR = 40643.730601, SSE = 9443.387046, MSR = 40643.730601, MSE = 34.975508, as we want the MSR to be big and the MSE to be small, so the relative values between MSR and MSE also indicate this model is a good fit."
   ]
  },
  {
   "cell_type": "code",
   "execution_count": 65,
   "metadata": {
    "scrolled": false
   },
   "outputs": [
    {
     "name": "stdout",
     "output_type": "stream",
     "text": [
      "              df        sum_sq       mean_sq            F         PR(>F)\n",
      "eruptions    1.0  40643.730601  40643.730601  1162.062638  8.129959e-100\n",
      "Residual   270.0   9443.387046     34.975508          NaN            NaN\n"
     ]
    },
    {
     "name": "stderr",
     "output_type": "stream",
     "text": [
      "/usr/local/lib/python3.5/site-packages/scipy/stats/_distn_infrastructure.py:879: RuntimeWarning: invalid value encountered in greater\n",
      "  return (self.a < x) & (x < self.b)\n",
      "/usr/local/lib/python3.5/site-packages/scipy/stats/_distn_infrastructure.py:879: RuntimeWarning: invalid value encountered in less\n",
      "  return (self.a < x) & (x < self.b)\n",
      "/usr/local/lib/python3.5/site-packages/scipy/stats/_distn_infrastructure.py:1821: RuntimeWarning: invalid value encountered in less_equal\n",
      "  cond2 = cond0 & (x <= self.a)\n"
     ]
    }
   ],
   "source": [
    "print(sm.stats.anova_lm(faithfulOLSmodel, typ = 1))"
   ]
  },
  {
   "cell_type": "markdown",
   "metadata": {},
   "source": [
    "**(4) Based on the observation of scatter plot, it could be helpful to do a Brown-Forsythe test on residuals Homoskedasticity:**  \n",
    "First, plot the residual ~ pridictor X and residual ~ fitted values $\\hat{Y}$, it can be ovserved from the residula plots that the errors are randomly distributed.  \n",
    "Run Brown-Forsythe test to check for homoscedasticity.  \n",
    "$H_0: \\sigma^2_{eruptions <= 3.25} = \\sigma^2_{eruptions > 3.25}$  \n",
    "$H_1: \\sigma^2_{eruptions <= 3.25} \\neq \\sigma^2_{eruptions > 3.25}$   \n",
    "We got a p-value of 0.84 which is greater than 0.05 or the 5% significance level. We don't have enough evidence to reject the null hypothesis. Given the data we have, we can conclude that variance of errors is constant."
   ]
  },
  {
   "cell_type": "code",
   "execution_count": 66,
   "metadata": {
    "scrolled": true
   },
   "outputs": [
    {
     "data": {
      "text/plain": [
       "[Text(0,0.5,'Residuals (e)'), Text(0.5,0,'eruptions(X)')]"
      ]
     },
     "execution_count": 66,
     "metadata": {},
     "output_type": "execute_result"
    },
    {
     "data": {
      "image/png": "[encoded data removed]",
      "text/plain": [
       "<matplotlib.figure.Figure at 0x10edb17f0>"
      ]
     },
     "metadata": {},
     "output_type": "display_data"
    }
   ],
   "source": [
    "r1 = sns.residplot('eruptions', 'waiting', data = df_faithfulData)\n",
    "r1.set(xlabel='eruptions(X)', ylabel='Residuals (e)')"
   ]
  },
  {
   "cell_type": "code",
   "execution_count": 67,
   "metadata": {
    "scrolled": true
   },
   "outputs": [
    {
     "data": {
      "text/plain": [
       "[Text(0,0.5,'Residuals (e)'), Text(0.5,0,'Predicted Values (Y_hat)')]"
      ]
     },
     "execution_count": 67,
     "metadata": {},
     "output_type": "execute_result"
    },
    {
     "data": {
      "image/png": "[encoded data removed]",
      "text/plain": [
       "<matplotlib.figure.Figure at 0x1068595c0>"
      ]
     },
     "metadata": {},
     "output_type": "display_data"
    }
   ],
   "source": [
    "my_x = pd.Series(faithfulOLSmodel.predict())\n",
    "my_y = pd.Series(faithfulOLSmodel.resid)\n",
    "myDF_resid = pd.DataFrame(pd.concat([my_x.rename('predictedValues'),\n",
    "my_y.rename('residuals')], axis = 1))\n",
    "r2 = sns.regplot('predictedValues', 'residuals', data = myDF_resid, ci = False)\n",
    "r2.set(xlabel='Predicted Values (Y_hat)', ylabel='Residuals (e)')"
   ]
  },
  {
   "cell_type": "code",
   "execution_count": 68,
   "metadata": {},
   "outputs": [
    {
     "data": {
      "text/plain": [
       "LeveneResult(statistic=0.04059608951381479, pvalue=0.8404712927821396)"
      ]
     },
     "execution_count": 68,
     "metadata": {},
     "output_type": "execute_result"
    }
   ],
   "source": [
    "import scipy as sp\n",
    "sample_1 = faithfulOLSmodel.resid[df_faithfulData.eruptions <= 3.25]\n",
    "sample_2 = faithfulOLSmodel.resid[df_faithfulData.eruptions > 3.25]\n",
    "sp.stats.levene(sample_1, sample_2, center = 'median')"
   ]
  },
  {
   "cell_type": "markdown",
   "metadata": {},
   "source": [
    "### Question 2"
   ]
  },
  {
   "cell_type": "markdown",
   "metadata": {
    "collapsed": true
   },
   "source": [
    "In 1987, Phillip Ein-Dor and Jacob Feldmesser estimated the relative performance (ERP, #10 in data dictionary) of CPUs in an academic journal paper using linear regression. Import `erpData.csv`, using `header = None` as there is no header in the file. The data dictionary follows:\n",
    "\n",
    "1. Vendor Name\n",
    "2. Model Name\n",
    "3. MYCT: machine cycle time in nanoseconds (integer) \n",
    "4. MMIN: minimum main memory in kilobytes (integer) \n",
    "5. MMAX: maximum main memory in kilobytes (integer) \n",
    "6. CACH: cache memory in kilobytes (integer) \n",
    "7. CHMIN: minimum channels in units (integer) \n",
    "8. CHMAX: maximum channels in units (integer) \n",
    "9. PRP: published relative performance (integer) \n",
    "10. ERP: estimated relative performance from the original article (integer)\n",
    "\n",
    "    (a) Create a correlation matrix or scatterplot matrix of variables 3-10. Identify three explanatory variables you believe would be good predictors of ERP.\n",
    "    \n",
    "    (b) Run three simple linear regression models: $X_1 \\sim Y$, $X_2 \\sim Y$, and $X_3 \\sim Y$. Discuss the merits of each model with supporting evidence, and choose the model which you feel is the most appropriate in predicting ERP."
   ]
  },
  {
   "cell_type": "code",
   "execution_count": 80,
   "metadata": {
    "scrolled": false
   },
   "outputs": [
    {
     "data": {
      "text/html": [
       "<div>\n",
       "<style scoped>\n",
       "    .dataframe tbody tr th:only-of-type {\n",
       "        vertical-align: middle;\n",
       "    }\n",
       "\n",
       "    .dataframe tbody tr th {\n",
       "        vertical-align: top;\n",
       "    }\n",
       "\n",
       "    .dataframe thead th {\n",
       "        text-align: right;\n",
       "    }\n",
       "</style>\n",
       "<table border=\"1\" class=\"dataframe\">\n",
       "  <thead>\n",
       "    <tr style=\"text-align: right;\">\n",
       "      <th></th>\n",
       "      <th>MYCT</th>\n",
       "      <th>MMIN</th>\n",
       "      <th>MMAX</th>\n",
       "      <th>CACH</th>\n",
       "      <th>CHMIN</th>\n",
       "      <th>CHMAX</th>\n",
       "      <th>PRP</th>\n",
       "      <th>ERP</th>\n",
       "    </tr>\n",
       "  </thead>\n",
       "  <tbody>\n",
       "    <tr>\n",
       "      <th>MYCT</th>\n",
       "      <td>1.000000</td>\n",
       "      <td>-0.335642</td>\n",
       "      <td>-0.378561</td>\n",
       "      <td>-0.321000</td>\n",
       "      <td>-0.301090</td>\n",
       "      <td>-0.250502</td>\n",
       "      <td>-0.307099</td>\n",
       "      <td>-0.288396</td>\n",
       "    </tr>\n",
       "    <tr>\n",
       "      <th>MMIN</th>\n",
       "      <td>-0.335642</td>\n",
       "      <td>1.000000</td>\n",
       "      <td>0.758157</td>\n",
       "      <td>0.534729</td>\n",
       "      <td>0.517189</td>\n",
       "      <td>0.266907</td>\n",
       "      <td>0.794931</td>\n",
       "      <td>0.819292</td>\n",
       "    </tr>\n",
       "    <tr>\n",
       "      <th>MMAX</th>\n",
       "      <td>-0.378561</td>\n",
       "      <td>0.758157</td>\n",
       "      <td>1.000000</td>\n",
       "      <td>0.537990</td>\n",
       "      <td>0.560513</td>\n",
       "      <td>0.527246</td>\n",
       "      <td>0.863004</td>\n",
       "      <td>0.901202</td>\n",
       "    </tr>\n",
       "    <tr>\n",
       "      <th>CACH</th>\n",
       "      <td>-0.321000</td>\n",
       "      <td>0.534729</td>\n",
       "      <td>0.537990</td>\n",
       "      <td>1.000000</td>\n",
       "      <td>0.582245</td>\n",
       "      <td>0.487846</td>\n",
       "      <td>0.662641</td>\n",
       "      <td>0.648620</td>\n",
       "    </tr>\n",
       "    <tr>\n",
       "      <th>CHMIN</th>\n",
       "      <td>-0.301090</td>\n",
       "      <td>0.517189</td>\n",
       "      <td>0.560513</td>\n",
       "      <td>0.582245</td>\n",
       "      <td>1.000000</td>\n",
       "      <td>0.548281</td>\n",
       "      <td>0.608903</td>\n",
       "      <td>0.610580</td>\n",
       "    </tr>\n",
       "    <tr>\n",
       "      <th>CHMAX</th>\n",
       "      <td>-0.250502</td>\n",
       "      <td>0.266907</td>\n",
       "      <td>0.527246</td>\n",
       "      <td>0.487846</td>\n",
       "      <td>0.548281</td>\n",
       "      <td>1.000000</td>\n",
       "      <td>0.605209</td>\n",
       "      <td>0.592156</td>\n",
       "    </tr>\n",
       "    <tr>\n",
       "      <th>PRP</th>\n",
       "      <td>-0.307099</td>\n",
       "      <td>0.794931</td>\n",
       "      <td>0.863004</td>\n",
       "      <td>0.662641</td>\n",
       "      <td>0.608903</td>\n",
       "      <td>0.605209</td>\n",
       "      <td>1.000000</td>\n",
       "      <td>0.966472</td>\n",
       "    </tr>\n",
       "    <tr>\n",
       "      <th>ERP</th>\n",
       "      <td>-0.288396</td>\n",
       "      <td>0.819292</td>\n",
       "      <td>0.901202</td>\n",
       "      <td>0.648620</td>\n",
       "      <td>0.610580</td>\n",
       "      <td>0.592156</td>\n",
       "      <td>0.966472</td>\n",
       "      <td>1.000000</td>\n",
       "    </tr>\n",
       "  </tbody>\n",
       "</table>\n",
       "</div>"
      ],
      "text/plain": [
       "           MYCT      MMIN      MMAX      CACH     CHMIN     CHMAX       PRP  \\\n",
       "MYCT   1.000000 -0.335642 -0.378561 -0.321000 -0.301090 -0.250502 -0.307099   \n",
       "MMIN  -0.335642  1.000000  0.758157  0.534729  0.517189  0.266907  0.794931   \n",
       "MMAX  -0.378561  0.758157  1.000000  0.537990  0.560513  0.527246  0.863004   \n",
       "CACH  -0.321000  0.534729  0.537990  1.000000  0.582245  0.487846  0.662641   \n",
       "CHMIN -0.301090  0.517189  0.560513  0.582245  1.000000  0.548281  0.608903   \n",
       "CHMAX -0.250502  0.266907  0.527246  0.487846  0.548281  1.000000  0.605209   \n",
       "PRP   -0.307099  0.794931  0.863004  0.662641  0.608903  0.605209  1.000000   \n",
       "ERP   -0.288396  0.819292  0.901202  0.648620  0.610580  0.592156  0.966472   \n",
       "\n",
       "            ERP  \n",
       "MYCT  -0.288396  \n",
       "MMIN   0.819292  \n",
       "MMAX   0.901202  \n",
       "CACH   0.648620  \n",
       "CHMIN  0.610580  \n",
       "CHMAX  0.592156  \n",
       "PRP    0.966472  \n",
       "ERP    1.000000  "
      ]
     },
     "execution_count": 80,
     "metadata": {},
     "output_type": "execute_result"
    }
   ],
   "source": [
    "erpData = pd.read_csv(\"erpData.csv\",header=None)\n",
    "# erp_numData = erpData.iloc[:,2:]\n",
    "# erp_numData.corr()\n",
    "erpData_clean = erpData.rename(columns = { \n",
    "                        2:'MYCT',\n",
    "                        3:'MMIN',\n",
    "                        4:'MMAX',\n",
    "                        5:'CACH',\n",
    "                        6:'CHMIN',\n",
    "                        7:'CHMAX',\n",
    "                        8:'PRP',\n",
    "                        9:'ERP'})\n",
    "erpData_clean.corr()"
   ]
  },
  {
   "cell_type": "code",
   "execution_count": 89,
   "metadata": {
    "scrolled": true
   },
   "outputs": [],
   "source": [
    "# from pandas.plotting import scatter_matrix\n",
    "# scatter_matrix(erpData_clean.iloc[:,:], alpha=0.2, diagonal='kde')"
   ]
  },
  {
   "cell_type": "markdown",
   "metadata": {},
   "source": [
    "**According to the result of correlation matrix and scatter matrix, MMIN, MMAX and PRP have the highest correlation values with ERP, respectively 0.819292, 0.901202, and 0.966472. However, it is also noticed from the matrix that PRP and MMAX have a correlation value of 0.863004 which is pretty high,plus PRP has high correlation values with other varialbes as well, so it could be a hint that PRP has too much collinearity with other variables in this data set and we might not want to use it as a predictor of EPR; thus, we can select CACH as another potential candidates of valid predictor, however, we still need further investigations on these variables to make conclusion.**  \n",
    "**So, next step is regression Y on each X to see the result diagnostics.**"
   ]
  },
  {
   "cell_type": "code",
   "execution_count": 82,
   "metadata": {
    "scrolled": true
   },
   "outputs": [
    {
     "data": {
      "image/png": "[encoded data removed]",
      "text/plain": [
       "<matplotlib.figure.Figure at 0x10d5aac18>"
      ]
     },
     "metadata": {},
     "output_type": "display_data"
    }
   ],
   "source": [
    "plot1 = sns.lmplot(\"MMIN\", \"ERP\", data=erpData_clean, ci = None)"
   ]
  },
  {
   "cell_type": "code",
   "execution_count": 93,
   "metadata": {
    "scrolled": true
   },
   "outputs": [
    {
     "name": "stdout",
     "output_type": "stream",
     "text": [
      "                            OLS Regression Results                            \n",
      "==============================================================================\n",
      "Dep. Variable:                    ERP   R-squared:                       0.671\n",
      "Model:                            OLS   Adj. R-squared:                  0.670\n",
      "Method:                 Least Squares   F-statistic:                     422.6\n",
      "Date:                Tue, 06 Mar 2018   Prob (F-statistic):           6.70e-52\n",
      "Time:                        01:19:42   Log-Likelihood:                -1233.6\n",
      "No. Observations:                 209   AIC:                             2471.\n",
      "Df Residuals:                     207   BIC:                             2478.\n",
      "Df Model:                           1                                         \n",
      "Covariance Type:            nonrobust                                         \n",
      "==============================================================================\n",
      "                 coef    std err          t      P>|t|      [0.025      0.975]\n",
      "------------------------------------------------------------------------------\n",
      "Intercept      5.5795      7.658      0.729      0.467      -9.519      20.678\n",
      "MMIN           0.0327      0.002     20.558      0.000       0.030       0.036\n",
      "==============================================================================\n",
      "Omnibus:                      237.682   Durbin-Watson:                   0.893\n",
      "Prob(Omnibus):                  0.000   Jarque-Bera (JB):             9921.384\n",
      "Skew:                           4.579   Prob(JB):                         0.00\n",
      "Kurtosis:                      35.488   Cond. No.                     6.00e+03\n",
      "==============================================================================\n",
      "\n",
      "Warnings:\n",
      "[1] Standard Errors assume that the covariance matrix of the errors is correctly specified.\n",
      "[2] The condition number is large,  6e+03. This might indicate that there are\n",
      "strong multicollinearity or other numerical problems.\n",
      "             df        sum_sq       mean_sq           F        PR(>F)\n",
      "MMIN        1.0  3.343809e+06  3.343809e+06  422.636024  6.701013e-52\n",
      "Residual  207.0  1.637741e+06  7.911794e+03         NaN           NaN\n"
     ]
    },
    {
     "name": "stderr",
     "output_type": "stream",
     "text": [
      "/usr/local/lib/python3.5/site-packages/scipy/stats/_distn_infrastructure.py:879: RuntimeWarning: invalid value encountered in greater\n",
      "  return (self.a < x) & (x < self.b)\n",
      "/usr/local/lib/python3.5/site-packages/scipy/stats/_distn_infrastructure.py:879: RuntimeWarning: invalid value encountered in less\n",
      "  return (self.a < x) & (x < self.b)\n",
      "/usr/local/lib/python3.5/site-packages/scipy/stats/_distn_infrastructure.py:1821: RuntimeWarning: invalid value encountered in less_equal\n",
      "  cond2 = cond0 & (x <= self.a)\n"
     ]
    }
   ],
   "source": [
    "erpOLSmodel = sm.OLS.from_formula('ERP ~ MMIN', erpData_clean).fit()\n",
    "print(erpOLSmodel.summary())\n",
    "print(sm.stats.anova_lm(erpOLSmodel, typ = 1))"
   ]
  },
  {
   "cell_type": "markdown",
   "metadata": {},
   "source": [
    "The regression result of ERP on MMIN shows that $R^2 = 0.671$, with significant p-value of $\\beta_1$ as well as F-statistic, we can conclude that there exist a weak linear relationship between MMIN and ERP, but MMIN is not most suitable predictor when it comes to estimate ERP."
   ]
  },
  {
   "cell_type": "code",
   "execution_count": 84,
   "metadata": {},
   "outputs": [
    {
     "data": {
      "image/png": "[encoded data removed]",
      "text/plain": [
       "<matplotlib.figure.Figure at 0x10f3c87b8>"
      ]
     },
     "metadata": {},
     "output_type": "display_data"
    }
   ],
   "source": [
    "plot1 = sns.lmplot(\"MMAX\", \"ERP\", data=erpData_clean, ci = None)"
   ]
  },
  {
   "cell_type": "code",
   "execution_count": 85,
   "metadata": {
    "scrolled": true
   },
   "outputs": [
    {
     "name": "stdout",
     "output_type": "stream",
     "text": [
      "                            OLS Regression Results                            \n",
      "==============================================================================\n",
      "Dep. Variable:                    ERP   R-squared:                       0.812\n",
      "Model:                            OLS   Adj. R-squared:                  0.811\n",
      "Method:                 Least Squares   F-statistic:                     895.0\n",
      "Date:                Mon, 05 Mar 2018   Prob (F-statistic):           4.21e-77\n",
      "Time:                        22:50:13   Log-Likelihood:                -1175.1\n",
      "No. Observations:                 209   AIC:                             2354.\n",
      "Df Residuals:                     207   BIC:                             2361.\n",
      "Df Model:                           1                                         \n",
      "Covariance Type:            nonrobust                                         \n",
      "==============================================================================\n",
      "                 coef    std err          t      P>|t|      [0.025      0.975]\n",
      "------------------------------------------------------------------------------\n",
      "Intercept    -40.9650      6.604     -6.203      0.000     -53.986     -27.944\n",
      "MMAX           0.0119      0.000     29.917      0.000       0.011       0.013\n",
      "==============================================================================\n",
      "Omnibus:                      156.706   Durbin-Watson:                   1.536\n",
      "Prob(Omnibus):                  0.000   Jarque-Bera (JB):             3061.543\n",
      "Skew:                           2.577   Prob(JB):                         0.00\n",
      "Kurtosis:                      21.028   Cond. No.                     2.36e+04\n",
      "==============================================================================\n",
      "\n",
      "Warnings:\n",
      "[1] Standard Errors assume that the covariance matrix of the errors is correctly specified.\n",
      "[2] The condition number is large, 2.36e+04. This might indicate that there are\n",
      "strong multicollinearity or other numerical problems.\n",
      "             df        sum_sq       mean_sq           F        PR(>F)\n",
      "MMAX        1.0  4.045844e+06  4.045844e+06  895.035239  4.205592e-77\n",
      "Residual  207.0  9.357059e+05  4.520318e+03         NaN           NaN\n"
     ]
    },
    {
     "name": "stderr",
     "output_type": "stream",
     "text": [
      "/usr/local/lib/python3.5/site-packages/scipy/stats/_distn_infrastructure.py:879: RuntimeWarning: invalid value encountered in greater\n",
      "  return (self.a < x) & (x < self.b)\n",
      "/usr/local/lib/python3.5/site-packages/scipy/stats/_distn_infrastructure.py:879: RuntimeWarning: invalid value encountered in less\n",
      "  return (self.a < x) & (x < self.b)\n",
      "/usr/local/lib/python3.5/site-packages/scipy/stats/_distn_infrastructure.py:1821: RuntimeWarning: invalid value encountered in less_equal\n",
      "  cond2 = cond0 & (x <= self.a)\n"
     ]
    }
   ],
   "source": [
    "erpOLSmodel = sm.OLS.from_formula('ERP ~ MMAX', erpData_clean).fit()\n",
    "print(erpOLSmodel.summary())\n",
    "print(sm.stats.anova_lm(erpOLSmodel, typ = 1))"
   ]
  },
  {
   "cell_type": "markdown",
   "metadata": {},
   "source": [
    "The regression result of ERP on MMAX shows that $R^2 = 0.812$, which is relatively higher than the previous model, and the p-value of $\\beta_1$ and F-statistic are significant, we can use MMAX as the appropriate predictor to predict ERP."
   ]
  },
  {
   "cell_type": "code",
   "execution_count": 86,
   "metadata": {},
   "outputs": [
    {
     "data": {
      "image/png": "[encoded data removed]",
      "text/plain": [
       "<matplotlib.figure.Figure at 0x106820ac8>"
      ]
     },
     "metadata": {},
     "output_type": "display_data"
    }
   ],
   "source": [
    "plot1 = sns.lmplot(\"PRP\", \"ERP\", data=erpData_clean, ci = None)"
   ]
  },
  {
   "cell_type": "code",
   "execution_count": 87,
   "metadata": {},
   "outputs": [
    {
     "name": "stdout",
     "output_type": "stream",
     "text": [
      "                            OLS Regression Results                            \n",
      "==============================================================================\n",
      "Dep. Variable:                    ERP   R-squared:                       0.934\n",
      "Model:                            OLS   Adj. R-squared:                  0.934\n",
      "Method:                 Least Squares   F-statistic:                     2933.\n",
      "Date:                Mon, 05 Mar 2018   Prob (F-statistic):          3.43e-124\n",
      "Time:                        22:50:16   Log-Likelihood:                -1065.7\n",
      "No. Observations:                 209   AIC:                             2135.\n",
      "Df Residuals:                     207   BIC:                             2142.\n",
      "Df Model:                           1                                         \n",
      "Covariance Type:            nonrobust                                         \n",
      "==============================================================================\n",
      "                 coef    std err          t      P>|t|      [0.025      0.975]\n",
      "------------------------------------------------------------------------------\n",
      "Intercept      1.1045      3.299      0.335      0.738      -5.399       7.608\n",
      "PRP            0.9300      0.017     54.153      0.000       0.896       0.964\n",
      "==============================================================================\n",
      "Omnibus:                       56.581   Durbin-Watson:                   1.502\n",
      "Prob(Omnibus):                  0.000   Jarque-Bera (JB):              906.868\n",
      "Skew:                          -0.458   Prob(JB):                    1.19e-197\n",
      "Kurtosis:                      13.164   Cond. No.                         230.\n",
      "==============================================================================\n",
      "\n",
      "Warnings:\n",
      "[1] Standard Errors assume that the covariance matrix of the errors is correctly specified.\n",
      "             df        sum_sq       mean_sq            F         PR(>F)\n",
      "PRP         1.0  4.653104e+06  4.653104e+06  2932.572973  3.427048e-124\n",
      "Residual  207.0  3.284462e+05  1.586697e+03          NaN            NaN\n",
      "SSE = 328446.22639465623\n"
     ]
    },
    {
     "name": "stderr",
     "output_type": "stream",
     "text": [
      "/usr/local/lib/python3.5/site-packages/scipy/stats/_distn_infrastructure.py:879: RuntimeWarning: invalid value encountered in greater\n",
      "  return (self.a < x) & (x < self.b)\n",
      "/usr/local/lib/python3.5/site-packages/scipy/stats/_distn_infrastructure.py:879: RuntimeWarning: invalid value encountered in less\n",
      "  return (self.a < x) & (x < self.b)\n",
      "/usr/local/lib/python3.5/site-packages/scipy/stats/_distn_infrastructure.py:1821: RuntimeWarning: invalid value encountered in less_equal\n",
      "  cond2 = cond0 & (x <= self.a)\n"
     ]
    }
   ],
   "source": [
    "erpOLSmodel = sm.OLS.from_formula('ERP ~ PRP', erpData_clean).fit()\n",
    "print(erpOLSmodel.summary())\n",
    "print(sm.stats.anova_lm(erpOLSmodel, typ = 1))\n",
    "print(\"SSE = {}\".format(erpOLSmodel.ssr))"
   ]
  },
  {
   "cell_type": "markdown",
   "metadata": {},
   "source": [
    "The regression result of ERP on PRP has a high $R^2 = 0.934$, and the p-value of testing $\\beta_1$ is significant, thus PRP could be a useful predictor. However, consider the high correlation of PRP with other variables, we should be very careful in including PRP into our model."
   ]
  },
  {
   "cell_type": "code",
   "execution_count": 88,
   "metadata": {
    "scrolled": true
   },
   "outputs": [
    {
     "name": "stdout",
     "output_type": "stream",
     "text": [
      "                            OLS Regression Results                            \n",
      "==============================================================================\n",
      "Dep. Variable:                    ERP   R-squared:                       0.421\n",
      "Model:                            OLS   Adj. R-squared:                  0.418\n",
      "Method:                 Least Squares   F-statistic:                     150.3\n",
      "Date:                Mon, 05 Mar 2018   Prob (F-statistic):           2.45e-26\n",
      "Time:                        22:50:17   Log-Likelihood:                -1292.8\n",
      "No. Observations:                 209   AIC:                             2590.\n",
      "Df Residuals:                     207   BIC:                             2596.\n",
      "Df Model:                           1                                         \n",
      "Covariance Type:            nonrobust                                         \n",
      "==============================================================================\n",
      "                 coef    std err          t      P>|t|      [0.025      0.975]\n",
      "------------------------------------------------------------------------------\n",
      "Intercept     37.0560      9.618      3.853      0.000      18.095      56.017\n",
      "CACH           2.4706      0.202     12.261      0.000       2.073       2.868\n",
      "==============================================================================\n",
      "Omnibus:                      201.593   Durbin-Watson:                   0.994\n",
      "Prob(Omnibus):                  0.000   Jarque-Bera (JB):             5783.357\n",
      "Skew:                           3.625   Prob(JB):                         0.00\n",
      "Kurtosis:                      27.729   Cond. No.                         56.2\n",
      "==============================================================================\n",
      "\n",
      "Warnings:\n",
      "[1] Standard Errors assume that the covariance matrix of the errors is correctly specified.\n",
      "             df        sum_sq       mean_sq           F        PR(>F)\n",
      "CACH        1.0  2.095779e+06  2.095779e+06  150.332889  2.446245e-26\n",
      "Residual  207.0  2.885771e+06  1.394092e+04         NaN           NaN\n"
     ]
    },
    {
     "name": "stderr",
     "output_type": "stream",
     "text": [
      "/usr/local/lib/python3.5/site-packages/scipy/stats/_distn_infrastructure.py:879: RuntimeWarning: invalid value encountered in greater\n",
      "  return (self.a < x) & (x < self.b)\n",
      "/usr/local/lib/python3.5/site-packages/scipy/stats/_distn_infrastructure.py:879: RuntimeWarning: invalid value encountered in less\n",
      "  return (self.a < x) & (x < self.b)\n",
      "/usr/local/lib/python3.5/site-packages/scipy/stats/_distn_infrastructure.py:1821: RuntimeWarning: invalid value encountered in less_equal\n",
      "  cond2 = cond0 & (x <= self.a)\n"
     ]
    }
   ],
   "source": [
    "erpOLSmodel = sm.OLS.from_formula('ERP ~ CACH', erpData_clean).fit()\n",
    "print(erpOLSmodel.summary())\n",
    "print(sm.stats.anova_lm(erpOLSmodel, typ = 1))"
   ]
  },
  {
   "cell_type": "markdown",
   "metadata": {},
   "source": [
    "As for the potential predictor CACH, from the regression result we can see the R-squared value is low, so it is not a good predictor."
   ]
  },
  {
   "cell_type": "markdown",
   "metadata": {},
   "source": [
    "### Question 3"
   ]
  },
  {
   "cell_type": "markdown",
   "metadata": {
    "collapsed": true
   },
   "source": [
    "An OLS simple linear regression is run and the resulting model is\n",
    "\n",
    "$$\\ln(\\hat{y}) = 12.63 - 3.3\\ln(x)$$\n",
    "\n",
    "Interpret the coefficient $b_1$, showing all math where appropriate."
   ]
  },
  {
   "cell_type": "markdown",
   "metadata": {},
   "source": [
    "**Taking the exponent of each side, we obtain: **   \n",
    "$\\hat{y} = e^{12.63 - 3.3ln(x)}$  \n",
    "$\\hat{y} = e^{12.63} * e^{-3.3ln(x)}$   \n",
    "$\\hat{y} = e^{12.63} * e^{ln(x^{-3.3})}$  \n",
    "$\\hat{y} = e^{12.63} * x^{-3.3}$  \n",
    "**Thus we have $\\beta_1 = e^{12.63}$**  \n",
    "\n",
    "If we increase x by $1%$  \n",
    "$ y = e^{12.63}(1.01 x)^{-3.3}$  \n",
    "$ y = e^{12.63}(1.01)^{-3.3} x^{-3.3}$  \n",
    "$ y = e^{12.63}(1.01)^{-3.3} x^{-3.3}$  \n",
    "$ y = e^{12.63}(0.968) x^{-3.3}$\n",
    "\n",
    "Therefore, an increase in the x by 1% will result in decrease\n",
    "in y by 3.2% on average."
   ]
  },
  {
   "cell_type": "code",
   "execution_count": 23,
   "metadata": {},
   "outputs": [
    {
     "data": {
      "text/plain": [
       "0.9676971600754156"
      ]
     },
     "execution_count": 23,
     "metadata": {},
     "output_type": "execute_result"
    }
   ],
   "source": [
    "np.power(1.01, -3.3)"
   ]
  },
  {
   "cell_type": "markdown",
   "metadata": {},
   "source": [
    "### Question 4"
   ]
  },
  {
   "cell_type": "markdown",
   "metadata": {
    "collapsed": true
   },
   "source": [
    "An OLS multiple linear regression is run and the resulting model is\n",
    "\n",
    "$$\\hat{y} = -22.51 - 59x_1 + 445x_2 - x_3$$\n",
    "\n",
    "Interpret the coefficients $b_1$, $b_2$ and $b_3$."
   ]
  },
  {
   "cell_type": "markdown",
   "metadata": {},
   "source": [
    "**From the model equation, $b_1 = -59$, $b_2 = 445$, $b_3 = -1$.**  \n",
    "$b_1 = -59$, indicates that for each additional increase in $X_1$ of 1 unit, we expect y to decrease 59 unit on average, holding $X_2$ and $X_3$ constant.  \n",
    "$b_2 = 445$, indicates that for each additional increase in $X_2$ of 1 unit, we expect y to increase 445 unit on average, holding $X_1$ and $X_3$ constant.  \n",
    "$b_3 = -1$, indicates that for each additional increase in $X_3$ of 1 unit, we expect y to decrease 1 unit on average, holding $X_1$ and $X_2$ constant.  \n"
   ]
  },
  {
   "cell_type": "markdown",
   "metadata": {},
   "source": [
    "### Question 5"
   ]
  },
  {
   "cell_type": "markdown",
   "metadata": {
    "collapsed": true
   },
   "source": [
    "Refer to the ERP data in Question 2. Generate a correlation matrix. Based solely on the correlation matrix and *without* running a MLR model, which three predictors would you select to include in an initial model. Support your decision with evidence."
   ]
  },
  {
   "cell_type": "code",
   "execution_count": 53,
   "metadata": {
    "scrolled": true
   },
   "outputs": [
    {
     "data": {
      "text/html": [
       "<div>\n",
       "<style scoped>\n",
       "    .dataframe tbody tr th:only-of-type {\n",
       "        vertical-align: middle;\n",
       "    }\n",
       "\n",
       "    .dataframe tbody tr th {\n",
       "        vertical-align: top;\n",
       "    }\n",
       "\n",
       "    .dataframe thead th {\n",
       "        text-align: right;\n",
       "    }\n",
       "</style>\n",
       "<table border=\"1\" class=\"dataframe\">\n",
       "  <thead>\n",
       "    <tr style=\"text-align: right;\">\n",
       "      <th></th>\n",
       "      <th>MYCT</th>\n",
       "      <th>MMIN</th>\n",
       "      <th>MMAX</th>\n",
       "      <th>CACH</th>\n",
       "      <th>CHMIN</th>\n",
       "      <th>CHMAX</th>\n",
       "      <th>PRP</th>\n",
       "      <th>ERP</th>\n",
       "    </tr>\n",
       "  </thead>\n",
       "  <tbody>\n",
       "    <tr>\n",
       "      <th>MYCT</th>\n",
       "      <td>1.000000</td>\n",
       "      <td>-0.335642</td>\n",
       "      <td>-0.378561</td>\n",
       "      <td>-0.321000</td>\n",
       "      <td>-0.301090</td>\n",
       "      <td>-0.250502</td>\n",
       "      <td>-0.307099</td>\n",
       "      <td>-0.288396</td>\n",
       "    </tr>\n",
       "    <tr>\n",
       "      <th>MMIN</th>\n",
       "      <td>-0.335642</td>\n",
       "      <td>1.000000</td>\n",
       "      <td>0.758157</td>\n",
       "      <td>0.534729</td>\n",
       "      <td>0.517189</td>\n",
       "      <td>0.266907</td>\n",
       "      <td>0.794931</td>\n",
       "      <td>0.819292</td>\n",
       "    </tr>\n",
       "    <tr>\n",
       "      <th>MMAX</th>\n",
       "      <td>-0.378561</td>\n",
       "      <td>0.758157</td>\n",
       "      <td>1.000000</td>\n",
       "      <td>0.537990</td>\n",
       "      <td>0.560513</td>\n",
       "      <td>0.527246</td>\n",
       "      <td>0.863004</td>\n",
       "      <td>0.901202</td>\n",
       "    </tr>\n",
       "    <tr>\n",
       "      <th>CACH</th>\n",
       "      <td>-0.321000</td>\n",
       "      <td>0.534729</td>\n",
       "      <td>0.537990</td>\n",
       "      <td>1.000000</td>\n",
       "      <td>0.582245</td>\n",
       "      <td>0.487846</td>\n",
       "      <td>0.662641</td>\n",
       "      <td>0.648620</td>\n",
       "    </tr>\n",
       "    <tr>\n",
       "      <th>CHMIN</th>\n",
       "      <td>-0.301090</td>\n",
       "      <td>0.517189</td>\n",
       "      <td>0.560513</td>\n",
       "      <td>0.582245</td>\n",
       "      <td>1.000000</td>\n",
       "      <td>0.548281</td>\n",
       "      <td>0.608903</td>\n",
       "      <td>0.610580</td>\n",
       "    </tr>\n",
       "    <tr>\n",
       "      <th>CHMAX</th>\n",
       "      <td>-0.250502</td>\n",
       "      <td>0.266907</td>\n",
       "      <td>0.527246</td>\n",
       "      <td>0.487846</td>\n",
       "      <td>0.548281</td>\n",
       "      <td>1.000000</td>\n",
       "      <td>0.605209</td>\n",
       "      <td>0.592156</td>\n",
       "    </tr>\n",
       "    <tr>\n",
       "      <th>PRP</th>\n",
       "      <td>-0.307099</td>\n",
       "      <td>0.794931</td>\n",
       "      <td>0.863004</td>\n",
       "      <td>0.662641</td>\n",
       "      <td>0.608903</td>\n",
       "      <td>0.605209</td>\n",
       "      <td>1.000000</td>\n",
       "      <td>0.966472</td>\n",
       "    </tr>\n",
       "    <tr>\n",
       "      <th>ERP</th>\n",
       "      <td>-0.288396</td>\n",
       "      <td>0.819292</td>\n",
       "      <td>0.901202</td>\n",
       "      <td>0.648620</td>\n",
       "      <td>0.610580</td>\n",
       "      <td>0.592156</td>\n",
       "      <td>0.966472</td>\n",
       "      <td>1.000000</td>\n",
       "    </tr>\n",
       "  </tbody>\n",
       "</table>\n",
       "</div>"
      ],
      "text/plain": [
       "           MYCT      MMIN      MMAX      CACH     CHMIN     CHMAX       PRP  \\\n",
       "MYCT   1.000000 -0.335642 -0.378561 -0.321000 -0.301090 -0.250502 -0.307099   \n",
       "MMIN  -0.335642  1.000000  0.758157  0.534729  0.517189  0.266907  0.794931   \n",
       "MMAX  -0.378561  0.758157  1.000000  0.537990  0.560513  0.527246  0.863004   \n",
       "CACH  -0.321000  0.534729  0.537990  1.000000  0.582245  0.487846  0.662641   \n",
       "CHMIN -0.301090  0.517189  0.560513  0.582245  1.000000  0.548281  0.608903   \n",
       "CHMAX -0.250502  0.266907  0.527246  0.487846  0.548281  1.000000  0.605209   \n",
       "PRP   -0.307099  0.794931  0.863004  0.662641  0.608903  0.605209  1.000000   \n",
       "ERP   -0.288396  0.819292  0.901202  0.648620  0.610580  0.592156  0.966472   \n",
       "\n",
       "            ERP  \n",
       "MYCT  -0.288396  \n",
       "MMIN   0.819292  \n",
       "MMAX   0.901202  \n",
       "CACH   0.648620  \n",
       "CHMIN  0.610580  \n",
       "CHMAX  0.592156  \n",
       "PRP    0.966472  \n",
       "ERP    1.000000  "
      ]
     },
     "execution_count": 53,
     "metadata": {},
     "output_type": "execute_result"
    }
   ],
   "source": [
    "erpData = pd.read_csv(\"erpData.csv\",header=None)\n",
    "# erp_numData = erpData.iloc[:,2:]\n",
    "# erp_numData.corr()\n",
    "erpData_clean = erpData.rename(columns = { \n",
    "                        2:'MYCT',\n",
    "                        3:'MMIN',\n",
    "                        4:'MMAX',\n",
    "                        5:'CACH',\n",
    "                        6:'CHMIN',\n",
    "                        7:'CHMAX',\n",
    "                        8:'PRP',\n",
    "                        9:'ERP'})\n",
    "erpData_clean.corr()"
   ]
  },
  {
   "cell_type": "markdown",
   "metadata": {},
   "source": [
    "**According to the result of correlation matrix and scatter matrix, MMIN, MMAX and PRP have the highest correlation values with ERP, respectively 0.819292, 0.901202, and 0.966472. However, PRP has high correlation values with other varialbes as well, which means PRP has too much collinearity with other variables in this data set and we might not want to include PRP as a predictor of EPR; thus, we can select CACH as another potential candidates of valid predictor. So I will compare the regression result of regression ERP on MMIN+MMAX+PRP and regression PRP on MMIN+MMAX+CACH, then compare the diagnostic values to decide which set of variables to use. For this problem I will use ERP ~ MMIN + MMAX + PRP first, and then continue to eliminate or add new variables.**"
   ]
  },
  {
   "cell_type": "code",
   "execution_count": 54,
   "metadata": {
    "scrolled": true
   },
   "outputs": [
    {
     "data": {
      "text/html": [
       "<table class=\"simpletable\">\n",
       "<caption>OLS Regression Results</caption>\n",
       "<tr>\n",
       "  <th>Dep. Variable:</th>           <td>ERP</td>       <th>  R-squared:         </th> <td>   0.955</td> \n",
       "</tr>\n",
       "<tr>\n",
       "  <th>Model:</th>                   <td>OLS</td>       <th>  Adj. R-squared:    </th> <td>   0.954</td> \n",
       "</tr>\n",
       "<tr>\n",
       "  <th>Method:</th>             <td>Least Squares</td>  <th>  F-statistic:       </th> <td>   1439.</td> \n",
       "</tr>\n",
       "<tr>\n",
       "  <th>Date:</th>             <td>Mon, 05 Mar 2018</td> <th>  Prob (F-statistic):</th> <td>2.09e-137</td>\n",
       "</tr>\n",
       "<tr>\n",
       "  <th>Time:</th>                 <td>22:47:56</td>     <th>  Log-Likelihood:    </th> <td> -1026.5</td> \n",
       "</tr>\n",
       "<tr>\n",
       "  <th>No. Observations:</th>      <td>   209</td>      <th>  AIC:               </th> <td>   2061.</td> \n",
       "</tr>\n",
       "<tr>\n",
       "  <th>Df Residuals:</th>          <td>   205</td>      <th>  BIC:               </th> <td>   2074.</td> \n",
       "</tr>\n",
       "<tr>\n",
       "  <th>Df Model:</th>              <td>     3</td>      <th>                     </th>     <td> </td>    \n",
       "</tr>\n",
       "<tr>\n",
       "  <th>Covariance Type:</th>      <td>nonrobust</td>    <th>                     </th>     <td> </td>    \n",
       "</tr>\n",
       "</table>\n",
       "<table class=\"simpletable\">\n",
       "<tr>\n",
       "      <td></td>         <th>coef</th>     <th>std err</th>      <th>t</th>      <th>P>|t|</th>  <th>[0.025</th>    <th>0.975]</th>  \n",
       "</tr>\n",
       "<tr>\n",
       "  <th>Intercept</th> <td>  -18.1027</td> <td>    3.419</td> <td>   -5.295</td> <td> 0.000</td> <td>  -24.843</td> <td>  -11.363</td>\n",
       "</tr>\n",
       "<tr>\n",
       "  <th>MMIN</th>      <td>    0.0037</td> <td>    0.001</td> <td>    3.654</td> <td> 0.000</td> <td>    0.002</td> <td>    0.006</td>\n",
       "</tr>\n",
       "<tr>\n",
       "  <th>MMAX</th>      <td>    0.0031</td> <td>    0.000</td> <td>    7.826</td> <td> 0.000</td> <td>    0.002</td> <td>    0.004</td>\n",
       "</tr>\n",
       "<tr>\n",
       "  <th>PRP</th>       <td>    0.6627</td> <td>    0.031</td> <td>   21.160</td> <td> 0.000</td> <td>    0.601</td> <td>    0.724</td>\n",
       "</tr>\n",
       "</table>\n",
       "<table class=\"simpletable\">\n",
       "<tr>\n",
       "  <th>Omnibus:</th>       <td>42.324</td> <th>  Durbin-Watson:     </th> <td>   1.394</td>\n",
       "</tr>\n",
       "<tr>\n",
       "  <th>Prob(Omnibus):</th> <td> 0.000</td> <th>  Jarque-Bera (JB):  </th> <td> 430.213</td>\n",
       "</tr>\n",
       "<tr>\n",
       "  <th>Skew:</th>          <td> 0.292</td> <th>  Prob(JB):          </th> <td>3.81e-94</td>\n",
       "</tr>\n",
       "<tr>\n",
       "  <th>Kurtosis:</th>      <td>10.004</td> <th>  Cond. No.          </th> <td>2.55e+04</td>\n",
       "</tr>\n",
       "</table>"
      ],
      "text/plain": [
       "<class 'statsmodels.iolib.summary.Summary'>\n",
       "\"\"\"\n",
       "                            OLS Regression Results                            \n",
       "==============================================================================\n",
       "Dep. Variable:                    ERP   R-squared:                       0.955\n",
       "Model:                            OLS   Adj. R-squared:                  0.954\n",
       "Method:                 Least Squares   F-statistic:                     1439.\n",
       "Date:                Mon, 05 Mar 2018   Prob (F-statistic):          2.09e-137\n",
       "Time:                        22:47:56   Log-Likelihood:                -1026.5\n",
       "No. Observations:                 209   AIC:                             2061.\n",
       "Df Residuals:                     205   BIC:                             2074.\n",
       "Df Model:                           3                                         \n",
       "Covariance Type:            nonrobust                                         \n",
       "==============================================================================\n",
       "                 coef    std err          t      P>|t|      [0.025      0.975]\n",
       "------------------------------------------------------------------------------\n",
       "Intercept    -18.1027      3.419     -5.295      0.000     -24.843     -11.363\n",
       "MMIN           0.0037      0.001      3.654      0.000       0.002       0.006\n",
       "MMAX           0.0031      0.000      7.826      0.000       0.002       0.004\n",
       "PRP            0.6627      0.031     21.160      0.000       0.601       0.724\n",
       "==============================================================================\n",
       "Omnibus:                       42.324   Durbin-Watson:                   1.394\n",
       "Prob(Omnibus):                  0.000   Jarque-Bera (JB):              430.213\n",
       "Skew:                           0.292   Prob(JB):                     3.81e-94\n",
       "Kurtosis:                      10.004   Cond. No.                     2.55e+04\n",
       "==============================================================================\n",
       "\n",
       "Warnings:\n",
       "[1] Standard Errors assume that the covariance matrix of the errors is correctly specified.\n",
       "[2] The condition number is large, 2.55e+04. This might indicate that there are\n",
       "strong multicollinearity or other numerical problems.\n",
       "\"\"\""
      ]
     },
     "execution_count": 54,
     "metadata": {},
     "output_type": "execute_result"
    }
   ],
   "source": [
    "erp_lm = smf.ols('ERP ~ MMIN + MMAX + PRP', data = erpData_clean).fit()\n",
    "erp_lm.summary()"
   ]
  },
  {
   "cell_type": "code",
   "execution_count": 55,
   "metadata": {
    "scrolled": true
   },
   "outputs": [
    {
     "data": {
      "text/html": [
       "<table class=\"simpletable\">\n",
       "<caption>OLS Regression Results</caption>\n",
       "<tr>\n",
       "  <th>Dep. Variable:</th>           <td>ERP</td>       <th>  R-squared:         </th> <td>   0.878</td>\n",
       "</tr>\n",
       "<tr>\n",
       "  <th>Model:</th>                   <td>OLS</td>       <th>  Adj. R-squared:    </th> <td>   0.876</td>\n",
       "</tr>\n",
       "<tr>\n",
       "  <th>Method:</th>             <td>Least Squares</td>  <th>  F-statistic:       </th> <td>   492.9</td>\n",
       "</tr>\n",
       "<tr>\n",
       "  <th>Date:</th>             <td>Mon, 05 Mar 2018</td> <th>  Prob (F-statistic):</th> <td>1.96e-93</td>\n",
       "</tr>\n",
       "<tr>\n",
       "  <th>Time:</th>                 <td>22:47:57</td>     <th>  Log-Likelihood:    </th> <td> -1129.7</td>\n",
       "</tr>\n",
       "<tr>\n",
       "  <th>No. Observations:</th>      <td>   209</td>      <th>  AIC:               </th> <td>   2267.</td>\n",
       "</tr>\n",
       "<tr>\n",
       "  <th>Df Residuals:</th>          <td>   205</td>      <th>  BIC:               </th> <td>   2281.</td>\n",
       "</tr>\n",
       "<tr>\n",
       "  <th>Df Model:</th>              <td>     3</td>      <th>                     </th>     <td> </td>   \n",
       "</tr>\n",
       "<tr>\n",
       "  <th>Covariance Type:</th>      <td>nonrobust</td>    <th>                     </th>     <td> </td>   \n",
       "</tr>\n",
       "</table>\n",
       "<table class=\"simpletable\">\n",
       "<tr>\n",
       "      <td></td>         <th>coef</th>     <th>std err</th>      <th>t</th>      <th>P>|t|</th>  <th>[0.025</th>    <th>0.975]</th>  \n",
       "</tr>\n",
       "<tr>\n",
       "  <th>Intercept</th> <td>  -42.2554</td> <td>    5.359</td> <td>   -7.884</td> <td> 0.000</td> <td>  -52.822</td> <td>  -31.689</td>\n",
       "</tr>\n",
       "<tr>\n",
       "  <th>MMIN</th>      <td>    0.0106</td> <td>    0.002</td> <td>    6.907</td> <td> 0.000</td> <td>    0.008</td> <td>    0.014</td>\n",
       "</tr>\n",
       "<tr>\n",
       "  <th>MMAX</th>      <td>    0.0079</td> <td>    0.001</td> <td>   15.623</td> <td> 0.000</td> <td>    0.007</td> <td>    0.009</td>\n",
       "</tr>\n",
       "<tr>\n",
       "  <th>CACH</th>      <td>    0.6976</td> <td>    0.113</td> <td>    6.164</td> <td> 0.000</td> <td>    0.474</td> <td>    0.921</td>\n",
       "</tr>\n",
       "</table>\n",
       "<table class=\"simpletable\">\n",
       "<tr>\n",
       "  <th>Omnibus:</th>       <td>172.085</td> <th>  Durbin-Watson:     </th> <td>   1.027</td>\n",
       "</tr>\n",
       "<tr>\n",
       "  <th>Prob(Omnibus):</th> <td> 0.000</td>  <th>  Jarque-Bera (JB):  </th> <td>3017.388</td>\n",
       "</tr>\n",
       "<tr>\n",
       "  <th>Skew:</th>          <td> 3.028</td>  <th>  Prob(JB):          </th> <td>    0.00</td>\n",
       "</tr>\n",
       "<tr>\n",
       "  <th>Kurtosis:</th>      <td>20.601</td>  <th>  Cond. No.          </th> <td>2.44e+04</td>\n",
       "</tr>\n",
       "</table>"
      ],
      "text/plain": [
       "<class 'statsmodels.iolib.summary.Summary'>\n",
       "\"\"\"\n",
       "                            OLS Regression Results                            \n",
       "==============================================================================\n",
       "Dep. Variable:                    ERP   R-squared:                       0.878\n",
       "Model:                            OLS   Adj. R-squared:                  0.876\n",
       "Method:                 Least Squares   F-statistic:                     492.9\n",
       "Date:                Mon, 05 Mar 2018   Prob (F-statistic):           1.96e-93\n",
       "Time:                        22:47:57   Log-Likelihood:                -1129.7\n",
       "No. Observations:                 209   AIC:                             2267.\n",
       "Df Residuals:                     205   BIC:                             2281.\n",
       "Df Model:                           3                                         \n",
       "Covariance Type:            nonrobust                                         \n",
       "==============================================================================\n",
       "                 coef    std err          t      P>|t|      [0.025      0.975]\n",
       "------------------------------------------------------------------------------\n",
       "Intercept    -42.2554      5.359     -7.884      0.000     -52.822     -31.689\n",
       "MMIN           0.0106      0.002      6.907      0.000       0.008       0.014\n",
       "MMAX           0.0079      0.001     15.623      0.000       0.007       0.009\n",
       "CACH           0.6976      0.113      6.164      0.000       0.474       0.921\n",
       "==============================================================================\n",
       "Omnibus:                      172.085   Durbin-Watson:                   1.027\n",
       "Prob(Omnibus):                  0.000   Jarque-Bera (JB):             3017.388\n",
       "Skew:                           3.028   Prob(JB):                         0.00\n",
       "Kurtosis:                      20.601   Cond. No.                     2.44e+04\n",
       "==============================================================================\n",
       "\n",
       "Warnings:\n",
       "[1] Standard Errors assume that the covariance matrix of the errors is correctly specified.\n",
       "[2] The condition number is large, 2.44e+04. This might indicate that there are\n",
       "strong multicollinearity or other numerical problems.\n",
       "\"\"\""
      ]
     },
     "execution_count": 55,
     "metadata": {},
     "output_type": "execute_result"
    }
   ],
   "source": [
    "erp_lm = smf.ols('ERP ~ MMIN + MMAX + CACH', data = erpData_clean).fit()\n",
    "erp_lm.summary()"
   ]
  },
  {
   "cell_type": "markdown",
   "metadata": {},
   "source": [
    "The results of regress `ERP` on `MMIN + MMAX + PRP` exceeds other regression schemas, so we can use `MMIN, MMAX, PRP` to predict `ERP`."
   ]
  },
  {
   "cell_type": "markdown",
   "metadata": {},
   "source": [
    "### Question 6"
   ]
  },
  {
   "cell_type": "markdown",
   "metadata": {},
   "source": [
    "Using both math and words, explain the tradeoffs involved in the calculation of the Adjusted Coefficient of Multiple Determination ($R_a^2$), and how it differs from the Coefficient of Multiple Determination ($R^2$)."
   ]
  },
  {
   "cell_type": "markdown",
   "metadata": {
    "collapsed": true
   },
   "source": [
    "**Answer:**  \n",
    "As we add more variables to the model, $R^2$ will never get smaller, as adding more variables to the model can only explain more error, not less.  \n",
    "Examine the formula of $R^2$, $R^2 = \\frac{SSR}{SSTO} = 1 - \\frac{SSE}{SSTO}$, as SSE decreases, which occurs when adding additional variables, $R^2$ invariably increases.  \n",
    "\n",
    "To offset the mathematical desire to include additional variables and increase the $R^2$ value, an alternative measure, the Adjusted Coefficient of Multiple Determination, $R^2_a$\n",
    "is computed as $R^2_a = 1 - \\frac{\\frac{SSE}{1-p}}{\\frac{SSTO}{n-1}} = 1 - (\\frac{n-1}{n-p})\\frac{SSE}{SSTO}$.  \n",
    "\n",
    "The effect of adding an additional variable to the magnitude of $R^2_a$:  \n",
    "when adding additional variable to the GLRM, $p\\uparrow , n-p\\downarrow , \\frac{n-1}{n-p}\\uparrow ,$ the entire item$(\\frac{n-1}{n-p})\\frac{SSE}{SSTO}\\uparrow , 1-(\\frac{n-1}{n-p})\\frac{SSE}{SSTO}\\downarrow$, which means $R^2_a$ decreases. \n",
    "on the other hand, when adding an additional variable to GLRM, $SSE\\downarrow$, the fraction $(\\frac{n-1}{n-p})\\frac{SSE}{SSTO}\\downarrow, 1-(\\frac{n-1}{n-p})\\frac{SSE}{SSTO}\\uparrow$,which means $R^2_a$ increases.  \n",
    "This trade off means that when adding variables to a model, the $R^2_a$ value can either go up or down."
   ]
  },
  {
   "cell_type": "markdown",
   "metadata": {},
   "source": [
    "### Question 7"
   ]
  },
  {
   "cell_type": "markdown",
   "metadata": {},
   "source": [
    "Explain why we need to be cautious of extrapolations in MLR."
   ]
  },
  {
   "cell_type": "markdown",
   "metadata": {},
   "source": [
    "When estimating a mean response or predicting a new observation in multiple regression, we needs to be careful that the estimate ore prediction does not fall outside the scope of the model. The danger is that the model may not be appropriate when it is extended outside the region of the observations. In MLR, it is particularly easy to lose track of this region since the levels of $X_1,...X_{p-1}$ **jointly** define the region. Thus, one cannot merely look at the ranges of each predictor variable. When there are only two predictor variables, it is easy to spot the extrapolation of one dot which is within the ranges of X1 and X2 individually yet is well outside the joint region of observations. However, it becomes much more difficult when the number of predictor variables is large. So we need to be cautious of extrapolations in MLR."
   ]
  },
  {
   "cell_type": "markdown",
   "metadata": {},
   "source": [
    "### Question 8"
   ]
  },
  {
   "cell_type": "markdown",
   "metadata": {},
   "source": [
    "Discuss the differences between Type 1 and Type 2 ANOVA Tables. "
   ]
  },
  {
   "cell_type": "markdown",
   "metadata": {},
   "source": [
    "**Answer:**  \n",
    "Type I : Also called sequential ANOVA, as variables are sequentially added to the regression model. Because of the sequential nature and the fact that the two main factors are tested in a particular order, this type of sums of squares will give different results for unbalanced data depending on which main effect is considered first.   \n",
    "Type II : For each variable, we get a test for adding one of the predictors to a model that includes all other variables. This type tests for each main effect after the other main effect. Note that no significant interaction is assumed (in other words, you should test for interaction first (SS(AB|A,B)) and only if AB is not significant, continue with the analysis for main effects).  \n",
    "The Type I sums of squares add up to SSR, the regression sum of squares for the model containing all the independent variables. The Type I sums of squares are different\n",
    "depending upon the way the independent variables are ordered.  \n",
    "The Type II sums of squares don’t necessarily add up to SSR. The Type II sums of squares do not depend on the ordering of the independent variables."
   ]
  },
  {
   "cell_type": "markdown",
   "metadata": {},
   "source": [
    "### Question 9"
   ]
  },
  {
   "cell_type": "markdown",
   "metadata": {},
   "source": [
    "Refer to the Figure on slide 333. Discuss the sequential nature of model building, using the Body Fat Example on the slide (data on course website if you would like to explore, but not necessary)."
   ]
  },
  {
   "cell_type": "markdown",
   "metadata": {},
   "source": [
    "**Answer:**  \n",
    "We can observe from the figure in slide 333 that SSR(X2|X1)=33.17 > SSR(X1|X2)=3.47, which indicates that the SSR of the model differs with the sequence we put predictor variables into the model. And according to the numeric magnitude of SSR(X2|X1) and SSR(X1|X2)=3.47, we can infer that X2 can better interpret the fraction of the sample variation in Y that is explained by X2. So if we need to eliminate one variable from the model, it is better to drop X1."
   ]
  },
  {
   "cell_type": "markdown",
   "metadata": {},
   "source": []
  },
  {
   "cell_type": "markdown",
   "metadata": {},
   "source": [
    "### Question 10"
   ]
  },
  {
   "cell_type": "markdown",
   "metadata": {},
   "source": [
    "Using `bodyFat.txt`. Regress `bodyFat` ($Y$) on `tricep` ($X_1$) and `thigh` ($X_2$). Compute the coefficient of partial determination for $X_2|X_1$, i.e., $R_{YX_2|X_1}^2$. Interpret the result. "
   ]
  },
  {
   "cell_type": "markdown",
   "metadata": {},
   "source": [
    " Since $R_{YX_2|X_1}^2 = \\frac{SSE(X_1)-SSE(X_1,X_2)}{SSE(X_1)} = \\frac{SSR(X_2|X_1)}{SSE(X_2)}$  \n",
    " so we can caculate $SSE(X_1)$ and $SSE(X_1,X_2)$, then use the above formula to get $R_{YX_2|X_1}^2$"
   ]
  },
  {
   "cell_type": "code",
   "execution_count": 56,
   "metadata": {},
   "outputs": [
    {
     "name": "stdout",
     "output_type": "stream",
     "text": [
      "SSE(X1,X2)=109.95079033418062\n",
      "SSE(X1)=143.11970316803615\n",
      "the coefficient of partial determination for  X2|X1 = 0.2317564395372737\n"
     ]
    }
   ],
   "source": [
    "bodyFatData = pd.read_table('bodyFat.txt',skipinitialspace=True, sep=' ')\n",
    "#names=['tricep', 'thigh','midarm','bodyFat'],\n",
    "bodyFat_lm = smf.ols('bodyFat ~ tricep + thigh',data = bodyFatData).fit()\n",
    "SSE_X1_X2 = bodyFat_lm.ssr#SSE\n",
    "print(\"SSE(X1,X2)={}\".format(SSE_X1_X2))\n",
    "bodyFat_X1 = smf.ols('bodyFat ~ tricep',data = bodyFatData).fit()\n",
    "SSE_X1 = bodyFat_X1.ssr#SSE\n",
    "print(\"SSE(X1)={}\".format(SSE_X1))\n",
    "#coefficient of partial determination\n",
    "cpd = (SSE_X1 - SSE_X1_X2)/SSE_X1\n",
    "print(\"the coefficient of partial determination for  X2|X1 = {}\".format(cpd))"
   ]
  },
  {
   "cell_type": "markdown",
   "metadata": {},
   "source": [
    "### Question 11"
   ]
  },
  {
   "cell_type": "markdown",
   "metadata": {},
   "source": [
    "In the context of polynomial and interaction terms, discuss the hierarchical principle in model building and its implications."
   ]
  },
  {
   "cell_type": "markdown",
   "metadata": {},
   "source": [
    "**Answer: **  \n",
    "When fitting polynomial regression models, statisticians will often fit the highest order model which they feel comfortable employing - typically a second or third order polynomial\n",
    "regression model, and subsequently scale back, lowering powers to evaluate whether lower-order models are adequate.  \n",
    "With the hierarchal approach, if a polynomial term of a given order is retained, then **all related terms of lower order** are also retained in the model.  \n",
    "The same is true for interaction terms: keeping a significant interaction term in the model implies **keeping all related first-order predictor variables**.  \n",
    "Implications: for example, in a cubic polynomial regression function where the cubic term is statistically significant, the quadratic term is also kept in the model, here the lower-order quadratic term is viewed as providing more **basic information** about the shape of the response function; the higher-order cubic term is viewed as providing **refinements** in the specification of the shape of the response function.  \n",
    "More polynomial and interaction terms in the model will complicate the procedure of regression analysis when we use the partial derivative to predict Y with Xi. The hierarchical principle can help us to reduce this pain and cost of the model building."
   ]
  },
  {
   "cell_type": "markdown",
   "metadata": {},
   "source": [
    "### Question 12"
   ]
  },
  {
   "cell_type": "markdown",
   "metadata": {},
   "source": [
    "*Preamble*"
   ]
  },
  {
   "cell_type": "code",
   "execution_count": 57,
   "metadata": {},
   "outputs": [],
   "source": [
    "womenData = sm.datasets.get_rdataset(\"women\") \n",
    "womenDF = pd.DataFrame(womenData.data)"
   ]
  },
  {
   "cell_type": "markdown",
   "metadata": {},
   "source": [
    "Regress `height` on `weight` and determine whether a quadratic term is appropriate. If not, what about a cubic? Show results and provide evidence for you conclusions. Be sure to verify all modeling assumptions."
   ]
  },
  {
   "cell_type": "code",
   "execution_count": 58,
   "metadata": {
    "scrolled": true
   },
   "outputs": [
    {
     "name": "stdout",
     "output_type": "stream",
     "text": [
      "                            OLS Regression Results                            \n",
      "==============================================================================\n",
      "Dep. Variable:                 height   R-squared:                       1.000\n",
      "Model:                            OLS   Adj. R-squared:                  1.000\n",
      "Method:                 Least Squares   F-statistic:                 2.732e+04\n",
      "Date:                Mon, 05 Mar 2018   Prob (F-statistic):           1.12e-22\n",
      "Time:                        22:48:15   Log-Likelihood:                 19.943\n",
      "No. Observations:                  15   AIC:                            -33.89\n",
      "Df Residuals:                      12   BIC:                            -31.76\n",
      "Df Model:                           2                                         \n",
      "Covariance Type:            nonrobust                                         \n",
      "=====================================================================================\n",
      "                        coef    std err          t      P>|t|      [0.025      0.975]\n",
      "-------------------------------------------------------------------------------------\n",
      "Intercept           -11.7469      1.720     -6.830      0.000     -15.494      -7.999\n",
      "weight                0.8343      0.025     33.346      0.000       0.780       0.889\n",
      "np.square(weight)    -0.0020   9.01e-05    -21.892      0.000      -0.002      -0.002\n",
      "==============================================================================\n",
      "Omnibus:                        0.600   Durbin-Watson:                   2.525\n",
      "Prob(Omnibus):                  0.741   Jarque-Bera (JB):                0.303\n",
      "Skew:                           0.327   Prob(JB):                        0.860\n",
      "Kurtosis:                       2.761   Cond. No.                     1.80e+06\n",
      "==============================================================================\n",
      "\n",
      "Warnings:\n",
      "[1] Standard Errors assume that the covariance matrix of the errors is correctly specified.\n",
      "[2] The condition number is large, 1.8e+06. This might indicate that there are\n",
      "strong multicollinearity or other numerical problems.\n",
      "0.061487241221082296\n"
     ]
    },
    {
     "name": "stderr",
     "output_type": "stream",
     "text": [
      "/usr/local/lib/python3.5/site-packages/scipy/stats/stats.py:1390: UserWarning: kurtosistest only valid for n>=20 ... continuing anyway, n=15\n",
      "  \"anyway, n=%i\" % int(n))\n"
     ]
    }
   ],
   "source": [
    "women_lm2 = smf.ols('height ~ weight + np.square(weight)', data = womenDF).fit()\n",
    "print(women_lm2.summary())\n",
    "print(women_lm2.ssr)"
   ]
  },
  {
   "cell_type": "markdown",
   "metadata": {},
   "source": [
    "**Results of regress height on $weight^2$:**  \n",
    "The $R^2$ is as high as 1, and all the p-values of coefficients are significant, the SSE are quite small. This could be a good fitted regression model. "
   ]
  },
  {
   "cell_type": "code",
   "execution_count": 59,
   "metadata": {},
   "outputs": [
    {
     "name": "stdout",
     "output_type": "stream",
     "text": [
      "                            OLS Regression Results                            \n",
      "==============================================================================\n",
      "Dep. Variable:                 height   R-squared:                       1.000\n",
      "Model:                            OLS   Adj. R-squared:                  1.000\n",
      "Method:                 Least Squares   F-statistic:                 1.690e+04\n",
      "Date:                Mon, 05 Mar 2018   Prob (F-statistic):           2.00e-20\n",
      "Time:                        22:48:17   Log-Likelihood:                 20.035\n",
      "No. Observations:                  15   AIC:                            -32.07\n",
      "Df Residuals:                      11   BIC:                            -29.24\n",
      "Df Model:                           3                                         \n",
      "Covariance Type:            nonrobust                                         \n",
      "=======================================================================================\n",
      "                          coef    std err          t      P>|t|      [0.025      0.975]\n",
      "---------------------------------------------------------------------------------------\n",
      "Intercept              -4.8121     18.981     -0.254      0.805     -46.589      36.965\n",
      "weight                  0.6826      0.414      1.648      0.128      -0.229       1.594\n",
      "np.square(weight)      -0.0009      0.003     -0.292      0.776      -0.007       0.006\n",
      "np.power(weight, 3) -2.633e-06   7.17e-06     -0.367      0.721   -1.84e-05    1.32e-05\n",
      "==============================================================================\n",
      "Omnibus:                        0.377   Durbin-Watson:                   2.578\n",
      "Prob(Omnibus):                  0.828   Jarque-Bera (JB):                0.085\n",
      "Skew:                           0.167   Prob(JB):                        0.958\n",
      "Kurtosis:                       2.845   Cond. No.                     2.76e+09\n",
      "==============================================================================\n",
      "\n",
      "Warnings:\n",
      "[1] Standard Errors assume that the covariance matrix of the errors is correctly specified.\n",
      "[2] The condition number is large, 2.76e+09. This might indicate that there are\n",
      "strong multicollinearity or other numerical problems.\n",
      "0.06074352807520228\n"
     ]
    },
    {
     "name": "stderr",
     "output_type": "stream",
     "text": [
      "/usr/local/lib/python3.5/site-packages/scipy/stats/stats.py:1390: UserWarning: kurtosistest only valid for n>=20 ... continuing anyway, n=15\n",
      "  \"anyway, n=%i\" % int(n))\n"
     ]
    }
   ],
   "source": [
    "women_lm3 = smf.ols('height ~ weight + np.square(weight) + np.power(weight,3)', data = womenDF).fit()\n",
    "print(women_lm3.summary())\n",
    "print(women_lm3.ssr)"
   ]
  },
  {
   "cell_type": "markdown",
   "metadata": {},
   "source": [
    "**Results of regress height on $weight^3$:**   \n",
    "Although the $R^2$ value is as high as 1, the p value for all the coefficients are greater than the significant level of 0.05, which means we do not reject the the null hyphthesis of $\\beta_0 = \\beta_1 = ... = \\beta_{p-1} = 0$. Thus, this model is actually not a good fit to the problem of our dataset.\n",
    "A polynomial model of sufficiently high order can always be found to fit data containing no repeat observations perfectly, and the model can become highly erratic for interpolations."
   ]
  },
  {
   "cell_type": "markdown",
   "metadata": {},
   "source": [
    "### Question 13"
   ]
  },
  {
   "cell_type": "markdown",
   "metadata": {},
   "source": [
    "What is the difference between a *reinforcement* and *interference* interaction effect. Provide an eample of each."
   ]
  },
  {
   "cell_type": "markdown",
   "metadata": {},
   "source": [
    "Consider a regression model for two quantitative predictor variables with linear effects On Y and interacting effects of X1 and X2 on Y represented by a cross-product term:  \n",
    "$Y_i=\\beta_0+\\beta_1X_{i1}+\\beta_2X_{i2}+\\beta_3X_{i1}X_{i2}+\\epsilon_i$  \n",
    "thus $E\\{Y\\}= \\beta_0+\\beta_1X_1 +\\beta_2X_2 + \\beta_3X_1X_2$\n",
    "\n",
    "An example can be used to illustrate **reinforcement interaction effect** is:  \n",
    "$E\\{Y\\}= 10 + 2X_1 + 5X_2 + 0.5X_1X_2$,the coefficient of the interaction term is positive,  \n",
    "When $X_2 = 1$, the slope of response function is $\\beta_1 + \\beta_3X_2 = 2 + 0.5(1) = 2.5$;   \n",
    "when $X_2 = 3$, the slope of response function is $\\beta_1 + \\beta_3X_2 = 2 + 0.5(3) = 3.5$;  \n",
    "Thus, a **unit increase in X1** has **a larger effect on Y** when **X2 are at a higher level** than **when X2 are at a lower level**.A similar increase in the slope occurs if the response function against X2 is considered for higher levels of X1.   \n",
    "When the regression coefficients $\\beta_1$, and $\\beta_2$ are positive, we say that the interaction effect between the two quantitative variables is of a **reinforcement** type when **the slope of the response function against one of the predictor variables increases for higher levels of the other predictor variable** (ie., when **$\\beta_3$ is positive**).  \n",
    "\n",
    "An example can be used to illustrate **interference interaction effect** is:  \n",
    "$E\\{Y\\}= 10 + 2X_1 + 5X_2 - 0.5X_1X_2$,the coefficient of the interaction term is negative,  \n",
    "When $X_2 = 1$, the slope of response function is $\\beta_1 + \\beta_3X_2 = 2 - 0.5(1) = 1.5$;   \n",
    "when $X_2 = 3$, the slope of response function is $\\beta_1 + \\beta_3X_2 = 2 - 0.5(3) = 0.5$;  \n",
    "Thus, a **unit increase in X1** has **a larger effect on Y** when **X2 are at a lower level** than **when X2 are at a higher level**.A similar increase in the slope occurs if the response function against X2 is considered for lower levels of X1.   \n",
    "When the regression coefficients $\\beta_1$, and $\\beta_2$ are positive, we say that the interaction effect between the two quantitative variables is of a **interference** type when **the slope of the response function against one of the predictor variables increases for lower levels of the other predictor variable** (ie., when **$\\beta_3$ is negative**).  \n"
   ]
  },
  {
   "cell_type": "markdown",
   "metadata": {},
   "source": [
    "### Question 14"
   ]
  },
  {
   "cell_type": "markdown",
   "metadata": {},
   "source": [
    "Import `advertising.csv`. Fit the best possible regression model using interaction and/or polynomials regressors, if appropriate. Provide an intuition as to why the significant regressors are contextually relevant."
   ]
  },
  {
   "cell_type": "code",
   "execution_count": 69,
   "metadata": {},
   "outputs": [],
   "source": [
    "adData = pd.read_csv(\"advertising.csv\")\n",
    "# print(adData.head(10))\n",
    "# adData.corr()"
   ]
  },
  {
   "cell_type": "code",
   "execution_count": 70,
   "metadata": {
    "scrolled": true
   },
   "outputs": [
    {
     "name": "stdout",
     "output_type": "stream",
     "text": [
      "                            OLS Regression Results                            \n",
      "==============================================================================\n",
      "Dep. Variable:                  Sales   R-squared:                       0.897\n",
      "Model:                            OLS   Adj. R-squared:                  0.896\n",
      "Method:                 Least Squares   F-statistic:                     570.3\n",
      "Date:                Mon, 05 Mar 2018   Prob (F-statistic):           1.58e-96\n",
      "Time:                        22:49:06   Log-Likelihood:                -386.18\n",
      "No. Observations:                 200   AIC:                             780.4\n",
      "Df Residuals:                     196   BIC:                             793.6\n",
      "Df Model:                           3                                         \n",
      "Covariance Type:            nonrobust                                         \n",
      "==============================================================================\n",
      "                 coef    std err          t      P>|t|      [0.025      0.975]\n",
      "------------------------------------------------------------------------------\n",
      "Intercept      2.9389      0.312      9.422      0.000       2.324       3.554\n",
      "TV             0.0458      0.001     32.809      0.000       0.043       0.049\n",
      "Radio          0.1885      0.009     21.893      0.000       0.172       0.206\n",
      "Newspaper     -0.0010      0.006     -0.177      0.860      -0.013       0.011\n",
      "==============================================================================\n",
      "Omnibus:                       60.414   Durbin-Watson:                   2.084\n",
      "Prob(Omnibus):                  0.000   Jarque-Bera (JB):              151.241\n",
      "Skew:                          -1.327   Prob(JB):                     1.44e-33\n",
      "Kurtosis:                       6.332   Cond. No.                         454.\n",
      "==============================================================================\n",
      "\n",
      "Warnings:\n",
      "[1] Standard Errors assume that the covariance matrix of the errors is correctly specified.\n"
     ]
    }
   ],
   "source": [
    "admodel = smf.ols('Sales ~ TV + Radio + Newspaper', data = adData).fit()\n",
    "print(admodel.summary())"
   ]
  },
  {
   "cell_type": "markdown",
   "metadata": {},
   "source": [
    "Notice the coefficent for `Newspaper` has an insignificant pvalue = 0.860 > $\\alpha$, so remove `Newspaper` from model. "
   ]
  },
  {
   "cell_type": "code",
   "execution_count": 71,
   "metadata": {
    "scrolled": true
   },
   "outputs": [
    {
     "name": "stdout",
     "output_type": "stream",
     "text": [
      "                            OLS Regression Results                            \n",
      "==============================================================================\n",
      "Dep. Variable:                  Sales   R-squared:                       0.897\n",
      "Model:                            OLS   Adj. R-squared:                  0.896\n",
      "Method:                 Least Squares   F-statistic:                     859.6\n",
      "Date:                Mon, 05 Mar 2018   Prob (F-statistic):           4.83e-98\n",
      "Time:                        22:49:08   Log-Likelihood:                -386.20\n",
      "No. Observations:                 200   AIC:                             778.4\n",
      "Df Residuals:                     197   BIC:                             788.3\n",
      "Df Model:                           2                                         \n",
      "Covariance Type:            nonrobust                                         \n",
      "==============================================================================\n",
      "                 coef    std err          t      P>|t|      [0.025      0.975]\n",
      "------------------------------------------------------------------------------\n",
      "Intercept      2.9211      0.294      9.919      0.000       2.340       3.502\n",
      "TV             0.0458      0.001     32.909      0.000       0.043       0.048\n",
      "Radio          0.1880      0.008     23.382      0.000       0.172       0.204\n",
      "==============================================================================\n",
      "Omnibus:                       60.022   Durbin-Watson:                   2.081\n",
      "Prob(Omnibus):                  0.000   Jarque-Bera (JB):              148.679\n",
      "Skew:                          -1.323   Prob(JB):                     5.19e-33\n",
      "Kurtosis:                       6.292   Cond. No.                         425.\n",
      "==============================================================================\n",
      "\n",
      "Warnings:\n",
      "[1] Standard Errors assume that the covariance matrix of the errors is correctly specified.\n"
     ]
    }
   ],
   "source": [
    "admodel = smf.ols('Sales ~ TV + Radio', data = adData).fit()\n",
    "print(admodel.summary())"
   ]
  },
  {
   "cell_type": "markdown",
   "metadata": {},
   "source": [
    "Continue to add interaction term."
   ]
  },
  {
   "cell_type": "code",
   "execution_count": 72,
   "metadata": {
    "scrolled": true
   },
   "outputs": [
    {
     "name": "stdout",
     "output_type": "stream",
     "text": [
      "                            OLS Regression Results                            \n",
      "==============================================================================\n",
      "Dep. Variable:                  Sales   R-squared:                       0.968\n",
      "Model:                            OLS   Adj. R-squared:                  0.967\n",
      "Method:                 Least Squares   F-statistic:                     1963.\n",
      "Date:                Mon, 05 Mar 2018   Prob (F-statistic):          6.68e-146\n",
      "Time:                        22:49:09   Log-Likelihood:                -270.14\n",
      "No. Observations:                 200   AIC:                             548.3\n",
      "Df Residuals:                     196   BIC:                             561.5\n",
      "Df Model:                           3                                         \n",
      "Covariance Type:            nonrobust                                         \n",
      "==============================================================================\n",
      "                 coef    std err          t      P>|t|      [0.025      0.975]\n",
      "------------------------------------------------------------------------------\n",
      "Intercept      6.7502      0.248     27.233      0.000       6.261       7.239\n",
      "TV             0.0191      0.002     12.699      0.000       0.016       0.022\n",
      "Radio          0.0289      0.009      3.241      0.001       0.011       0.046\n",
      "TV:Radio       0.0011   5.24e-05     20.727      0.000       0.001       0.001\n",
      "==============================================================================\n",
      "Omnibus:                      128.132   Durbin-Watson:                   2.224\n",
      "Prob(Omnibus):                  0.000   Jarque-Bera (JB):             1183.719\n",
      "Skew:                          -2.323   Prob(JB):                    9.09e-258\n",
      "Kurtosis:                      13.975   Cond. No.                     1.80e+04\n",
      "==============================================================================\n",
      "\n",
      "Warnings:\n",
      "[1] Standard Errors assume that the covariance matrix of the errors is correctly specified.\n",
      "[2] The condition number is large, 1.8e+04. This might indicate that there are\n",
      "strong multicollinearity or other numerical problems.\n"
     ]
    }
   ],
   "source": [
    "admodel = smf.ols('Sales ~ TV + Radio + TV * Radio', data = adData).fit()\n",
    "print(admodel.summary())"
   ]
  },
  {
   "cell_type": "markdown",
   "metadata": {},
   "source": [
    "The result of regression `Salse` on `TV + Radio + TV * Radio` has high $R^2$ value, significant pvalues, large F statistic, so `TV + Radio + TV * Radio` can be a good conbination of predictors to `Sales.`"
   ]
  },
  {
   "cell_type": "markdown",
   "metadata": {},
   "source": [
    "Then check some polynomial model with squared terms, compare the results. I decide to stick with my choice of regression Salse on `TV + Radio + TV * Radio`."
   ]
  },
  {
   "cell_type": "code",
   "execution_count": 73,
   "metadata": {},
   "outputs": [],
   "source": [
    "#admodel = smf.ols('Sales ~ TV + np.square(TV)', data = adData).fit()\n",
    "#admodel = smf.ols('Sales ~ Radio + np.square(Radio)', data = adData).fit()\n",
    "#admodel = smf.ols('Sales ~ TV + np.square(TV) + Radio + np.square(Radio)', data = adData).fit()\n",
    "#admodel = smf.ols('Sales ~ TV + np.square(TV) + Radio', data = adData).fit()\n",
    "#print(admodel.summary())"
   ]
  },
  {
   "cell_type": "markdown",
   "metadata": {},
   "source": [
    "### Question 15"
   ]
  },
  {
   "cell_type": "markdown",
   "metadata": {},
   "source": [
    "Import `credit.csv`. Fit the best possible model you can to predict loan `balance`. Be explicit about your coding scheme for the dummy variables.  In your final model, provide insight  as to why the significant regressors are contextually relevant?"
   ]
  },
  {
   "cell_type": "markdown",
   "metadata": {},
   "source": [
    "(1)if `student` value is No, set student = 0; if `student` value is Yes, set student = 1  \n",
    "if `default` value is No, set default = 0; if `student` value is Yes, set default = 1"
   ]
  },
  {
   "cell_type": "code",
   "execution_count": 36,
   "metadata": {},
   "outputs": [],
   "source": [
    "creditData = pd.read_csv(\"credit.csv\")\n",
    "creditData.loc[creditData['student']==\"No\", 'student'] = 0\n",
    "creditData.loc[creditData['student']==\"Yes\", 'student'] = 1\n",
    "creditData.loc[creditData['default']==\"No\", 'default'] = 0\n",
    "creditData.loc[creditData['default']==\"Yes\", 'default'] = 1\n",
    "#print(creditData.head(10))"
   ]
  },
  {
   "cell_type": "markdown",
   "metadata": {},
   "source": [
    "(2)check the correlation value between these variables"
   ]
  },
  {
   "cell_type": "code",
   "execution_count": 37,
   "metadata": {},
   "outputs": [
    {
     "data": {
      "text/html": [
       "<div>\n",
       "<style scoped>\n",
       "    .dataframe tbody tr th:only-of-type {\n",
       "        vertical-align: middle;\n",
       "    }\n",
       "\n",
       "    .dataframe tbody tr th {\n",
       "        vertical-align: top;\n",
       "    }\n",
       "\n",
       "    .dataframe thead th {\n",
       "        text-align: right;\n",
       "    }\n",
       "</style>\n",
       "<table border=\"1\" class=\"dataframe\">\n",
       "  <thead>\n",
       "    <tr style=\"text-align: right;\">\n",
       "      <th></th>\n",
       "      <th>Unnamed: 0</th>\n",
       "      <th>default</th>\n",
       "      <th>student</th>\n",
       "      <th>balance</th>\n",
       "      <th>income</th>\n",
       "    </tr>\n",
       "  </thead>\n",
       "  <tbody>\n",
       "    <tr>\n",
       "      <th>Unnamed: 0</th>\n",
       "      <td>1.000000</td>\n",
       "      <td>-0.005135</td>\n",
       "      <td>0.002597</td>\n",
       "      <td>0.010342</td>\n",
       "      <td>-0.001427</td>\n",
       "    </tr>\n",
       "    <tr>\n",
       "      <th>default</th>\n",
       "      <td>-0.005135</td>\n",
       "      <td>1.000000</td>\n",
       "      <td>0.035420</td>\n",
       "      <td>0.350119</td>\n",
       "      <td>-0.019871</td>\n",
       "    </tr>\n",
       "    <tr>\n",
       "      <th>student</th>\n",
       "      <td>0.002597</td>\n",
       "      <td>0.035420</td>\n",
       "      <td>1.000000</td>\n",
       "      <td>0.203578</td>\n",
       "      <td>-0.753985</td>\n",
       "    </tr>\n",
       "    <tr>\n",
       "      <th>balance</th>\n",
       "      <td>0.010342</td>\n",
       "      <td>0.350119</td>\n",
       "      <td>0.203578</td>\n",
       "      <td>1.000000</td>\n",
       "      <td>-0.152243</td>\n",
       "    </tr>\n",
       "    <tr>\n",
       "      <th>income</th>\n",
       "      <td>-0.001427</td>\n",
       "      <td>-0.019871</td>\n",
       "      <td>-0.753985</td>\n",
       "      <td>-0.152243</td>\n",
       "      <td>1.000000</td>\n",
       "    </tr>\n",
       "  </tbody>\n",
       "</table>\n",
       "</div>"
      ],
      "text/plain": [
       "            Unnamed: 0   default   student   balance    income\n",
       "Unnamed: 0    1.000000 -0.005135  0.002597  0.010342 -0.001427\n",
       "default      -0.005135  1.000000  0.035420  0.350119 -0.019871\n",
       "student       0.002597  0.035420  1.000000  0.203578 -0.753985\n",
       "balance       0.010342  0.350119  0.203578  1.000000 -0.152243\n",
       "income       -0.001427 -0.019871 -0.753985 -0.152243  1.000000"
      ]
     },
     "execution_count": 37,
     "metadata": {},
     "output_type": "execute_result"
    }
   ],
   "source": [
    "creditData.corr()"
   ]
  },
  {
   "cell_type": "markdown",
   "metadata": {},
   "source": [
    "(3)regress `balance` on all of the three variables (`default, income, student`), notice a small R-squared value, and the variable `income` has a pvalue = 0.856, so it could be excluded as an insignificant value."
   ]
  },
  {
   "cell_type": "code",
   "execution_count": 38,
   "metadata": {
    "scrolled": false
   },
   "outputs": [
    {
     "name": "stdout",
     "output_type": "stream",
     "text": [
      "                            OLS Regression Results                            \n",
      "==============================================================================\n",
      "Dep. Variable:                balance   R-squared:                       0.159\n",
      "Model:                            OLS   Adj. R-squared:                  0.159\n",
      "Method:                 Least Squares   F-statistic:                     630.8\n",
      "Date:                Mon, 05 Mar 2018   Prob (F-statistic):               0.00\n",
      "Time:                        22:46:49   Log-Likelihood:                -75137.\n",
      "No. Observations:               10000   AIC:                         1.503e+05\n",
      "Df Residuals:                    9996   BIC:                         1.503e+05\n",
      "Df Model:                           3                                         \n",
      "Covariance Type:            nonrobust                                         \n",
      "==============================================================================\n",
      "                 coef    std err          t      P>|t|      [0.025      0.975]\n",
      "------------------------------------------------------------------------------\n",
      "Intercept    748.4309     20.945     35.733      0.000     707.375     789.487\n",
      "default      925.6466     24.742     37.412      0.000     877.147     974.146\n",
      "income     -9.209e-05      0.001     -0.182      0.856      -0.001       0.001\n",
      "student      201.1093     14.824     13.566      0.000     172.051     230.168\n",
      "==============================================================================\n",
      "Omnibus:                      239.165   Durbin-Watson:                   2.004\n",
      "Prob(Omnibus):                  0.000   Jarque-Bera (JB):              135.533\n",
      "Skew:                           0.112   Prob(JB):                     3.71e-30\n",
      "Kurtosis:                       2.475   Cond. No.                     2.02e+05\n",
      "==============================================================================\n",
      "\n",
      "Warnings:\n",
      "[1] Standard Errors assume that the covariance matrix of the errors is correctly specified.\n",
      "[2] The condition number is large, 2.02e+05. This might indicate that there are\n",
      "strong multicollinearity or other numerical problems.\n"
     ]
    }
   ],
   "source": [
    "creditmodel = smf.ols('balance ~ default + income + student', data = creditData).fit()\n",
    "print(creditmodel.summary())"
   ]
  },
  {
   "cell_type": "markdown",
   "metadata": {},
   "source": [
    "(4)in order to verify that `income` is insignificant, try to regress balance on `income + student`, notice a very small R-squared and a pvalue = 0.846, so prepare to drop `income`."
   ]
  },
  {
   "cell_type": "code",
   "execution_count": 39,
   "metadata": {
    "scrolled": true
   },
   "outputs": [
    {
     "name": "stdout",
     "output_type": "stream",
     "text": [
      "                            OLS Regression Results                            \n",
      "==============================================================================\n",
      "Dep. Variable:                balance   R-squared:                       0.041\n",
      "Model:                            OLS   Adj. R-squared:                  0.041\n",
      "Method:                 Least Squares   F-statistic:                     216.1\n",
      "Date:                Mon, 05 Mar 2018   Prob (F-statistic):           1.28e-92\n",
      "Time:                        22:46:50   Log-Likelihood:                -75792.\n",
      "No. Observations:               10000   AIC:                         1.516e+05\n",
      "Df Residuals:                    9997   BIC:                         1.516e+05\n",
      "Df Model:                           2                                         \n",
      "Covariance Type:            nonrobust                                         \n",
      "==============================================================================\n",
      "                 coef    std err          t      P>|t|      [0.025      0.975]\n",
      "------------------------------------------------------------------------------\n",
      "Intercept    767.5623     22.356     34.334      0.000     723.741     811.384\n",
      "income         0.0001      0.001      0.195      0.846      -0.001       0.001\n",
      "student      218.3681     15.820     13.804      0.000     187.358     249.378\n",
      "==============================================================================\n",
      "Omnibus:                      170.544   Durbin-Watson:                   2.014\n",
      "Prob(Omnibus):                  0.000   Jarque-Bera (JB):              147.115\n",
      "Skew:                           0.238   Prob(JB):                     1.13e-32\n",
      "Kurtosis:                       2.644   Cond. No.                     2.00e+05\n",
      "==============================================================================\n",
      "\n",
      "Warnings:\n",
      "[1] Standard Errors assume that the covariance matrix of the errors is correctly specified.\n",
      "[2] The condition number is large,  2e+05. This might indicate that there are\n",
      "strong multicollinearity or other numerical problems.\n"
     ]
    }
   ],
   "source": [
    "creditmodel = smf.ols('balance ~ income + student', data = creditData).fit()\n",
    "print(creditmodel.summary())"
   ]
  },
  {
   "cell_type": "markdown",
   "metadata": {},
   "source": [
    "(5)However, when regress balance on `income + default`, notice a higher R-squared and significant pvalue, which means the varialbe `income` can be useful again. So, still need further investigation next step."
   ]
  },
  {
   "cell_type": "code",
   "execution_count": 40,
   "metadata": {
    "scrolled": true
   },
   "outputs": [
    {
     "name": "stdout",
     "output_type": "stream",
     "text": [
      "                            OLS Regression Results                            \n",
      "==============================================================================\n",
      "Dep. Variable:                balance   R-squared:                       0.144\n",
      "Model:                            OLS   Adj. R-squared:                  0.144\n",
      "Method:                 Least Squares   F-statistic:                     838.8\n",
      "Date:                Mon, 05 Mar 2018   Prob (F-statistic):               0.00\n",
      "Time:                        22:46:51   Log-Likelihood:                -75228.\n",
      "No. Observations:               10000   AIC:                         1.505e+05\n",
      "Df Residuals:                    9997   BIC:                         1.505e+05\n",
      "Df Model:                           2                                         \n",
      "Covariance Type:            nonrobust                                         \n",
      "==============================================================================\n",
      "                 coef    std err          t      P>|t|      [0.025      0.975]\n",
      "------------------------------------------------------------------------------\n",
      "Intercept    980.8895     12.155     80.701      0.000     957.064    1004.715\n",
      "income        -0.0053      0.000    -15.701      0.000      -0.006      -0.005\n",
      "default      936.0918     24.955     37.511      0.000     887.174     985.009\n",
      "==============================================================================\n",
      "Omnibus:                      244.553   Durbin-Watson:                   2.005\n",
      "Prob(Omnibus):                  0.000   Jarque-Bera (JB):              137.358\n",
      "Skew:                           0.111   Prob(JB):                     1.49e-30\n",
      "Kurtosis:                       2.470   Cond. No.                     2.01e+05\n",
      "==============================================================================\n",
      "\n",
      "Warnings:\n",
      "[1] Standard Errors assume that the covariance matrix of the errors is correctly specified.\n",
      "[2] The condition number is large, 2.01e+05. This might indicate that there are\n",
      "strong multicollinearity or other numerical problems.\n"
     ]
    }
   ],
   "source": [
    "creditmodel = smf.ols('balance ~ income + default', data = creditData).fit()\n",
    "print(creditmodel.summary())"
   ]
  },
  {
   "cell_type": "markdown",
   "metadata": {},
   "source": [
    "(6) Try drop `income` varialbe, regress balance on `default + student`, notice a higher R-squared and significant p-values, so it is safe to drop the variable `income` from the model. And all we have left in the model is dummy variables with binary 0/1 values."
   ]
  },
  {
   "cell_type": "code",
   "execution_count": 41,
   "metadata": {},
   "outputs": [
    {
     "name": "stdout",
     "output_type": "stream",
     "text": [
      "                            OLS Regression Results                            \n",
      "==============================================================================\n",
      "Dep. Variable:                balance   R-squared:                       0.159\n",
      "Model:                            OLS   Adj. R-squared:                  0.159\n",
      "Method:                 Least Squares   F-statistic:                     946.3\n",
      "Date:                Mon, 05 Mar 2018   Prob (F-statistic):               0.00\n",
      "Time:                        22:46:52   Log-Likelihood:                -75137.\n",
      "No. Observations:               10000   AIC:                         1.503e+05\n",
      "Df Residuals:                    9997   BIC:                         1.503e+05\n",
      "Df Model:                           2                                         \n",
      "Covariance Type:            nonrobust                                         \n",
      "==============================================================================\n",
      "                 coef    std err          t      P>|t|      [0.025      0.975]\n",
      "------------------------------------------------------------------------------\n",
      "Intercept    744.7475      5.330    139.727      0.000     734.300     755.195\n",
      "default      925.5997     24.739     37.414      0.000     877.105     974.094\n",
      "student      203.1417      9.739     20.859      0.000     184.051     222.232\n",
      "==============================================================================\n",
      "Omnibus:                      239.160   Durbin-Watson:                   2.004\n",
      "Prob(Omnibus):                  0.000   Jarque-Bera (JB):              135.524\n",
      "Skew:                           0.112   Prob(JB):                     3.73e-30\n",
      "Kurtosis:                       2.475   Cond. No.                         5.87\n",
      "==============================================================================\n",
      "\n",
      "Warnings:\n",
      "[1] Standard Errors assume that the covariance matrix of the errors is correctly specified.\n"
     ]
    }
   ],
   "source": [
    "creditmodel = smf.ols('balance ~ default + student', data = creditData).fit()\n",
    "print(creditmodel.summary())"
   ]
  },
  {
   "cell_type": "markdown",
   "metadata": {},
   "source": [
    "(8)finally decide to use `defualt and student` to predict `balance`. These two significant regressors are contextually relevant based on the intuition that the categorization of being student or not being student could draw a line between two sets of people who may have different levels of balance."
   ]
  },
  {
   "cell_type": "markdown",
   "metadata": {},
   "source": [
    "### Question 16"
   ]
  },
  {
   "cell_type": "markdown",
   "metadata": {},
   "source": [
    "Code up a backward elimination algorithm, which begins with a regression model that contains all avaiable explanatory variables in the model, and eliminates them sequentially (*one at a time*), until the $p$-values of remaining variables are all below a threshold value, in this case, &\\alpha = 0.05$.\n",
    "\n",
    "Import `mlb_01.csv`. Regress `Salary` on all other variables except `Player`. Explicitly state the coding scheme you employ for all dummy variables. Using the abovementioned algorithm, find a purely additive regression model. Discuss and interpret the merits of this model. \n",
    "\n",
    "Using the model identified by the backward elimination algorithm as a baseline, begin to test polynomial and interaction terms you think may be appropriate for this model. Settle on a final model which you believe is the best possible mode you can build to rpedict `Salary` using the e"
   ]
  },
  {
   "cell_type": "markdown",
   "metadata": {},
   "source": [
    "(1)Prepare and clean the data frame."
   ]
  },
  {
   "cell_type": "code",
   "execution_count": 74,
   "metadata": {},
   "outputs": [],
   "source": [
    "mlb_01 = pd.read_csv(\"mlb_01.csv\")\n",
    "mlb_01.drop(['Player'], axis = 1, inplace = True)\n",
    "mlb_01.loc[mlb_01['League']==\"National\", 'League'] = 0\n",
    "mlb_01.loc[mlb_01['League']==\"American\", 'League'] = 1\n",
    "mlb_01.loc[mlb_01['Position.Name']==\"Infielder\", 'Position.Name'] = 1\n",
    "mlb_01.loc[mlb_01['Position.Name']==\"Outfielder\", 'Position.Name'] = 2\n",
    "mlb_01.loc[mlb_01['Position.Name']==\"Catcher\", 'Position.Name'] = 3\n",
    "mlb_01.loc[mlb_01['Position.Name']==\"Designated Hitter\", 'Position.Name'] = 4\n",
    "mlb_01 = mlb_01.rename(columns = {'Position.Name':'Position'})\n",
    "#mlb_01.head(100)\n",
    "#mlb_01.tail(100)\n",
    "#mlb_01.corr()"
   ]
  },
  {
   "cell_type": "markdown",
   "metadata": {},
   "source": [
    "(2)Code up the backward elimination algorithm, in each step, drop one predictor variable whose p-value is greater than 0.05 "
   ]
  },
  {
   "cell_type": "code",
   "execution_count": 75,
   "metadata": {},
   "outputs": [
    {
     "name": "stdout",
     "output_type": "stream",
     "text": [
      "                            OLS Regression Results                            \n",
      "==============================================================================\n",
      "Dep. Variable:                 Salary   R-squared:                       0.593\n",
      "Model:                            OLS   Adj. R-squared:                  0.581\n",
      "Method:                 Least Squares   F-statistic:                     46.91\n",
      "Date:                Mon, 05 Mar 2018   Prob (F-statistic):           3.44e-35\n",
      "Time:                        22:49:21   Log-Likelihood:                -3273.4\n",
      "No. Observations:                 200   AIC:                             6561.\n",
      "Df Residuals:                     193   BIC:                             6584.\n",
      "Df Model:                           6                                         \n",
      "Covariance Type:            nonrobust                                         \n",
      "==============================================================================\n",
      "                 coef    std err          t      P>|t|      [0.025      0.975]\n",
      "------------------------------------------------------------------------------\n",
      "Intercept   2.335e+05   6.41e+05      0.364      0.716   -1.03e+06     1.5e+06\n",
      "Experience  5.788e+05   6.03e+04      9.600      0.000     4.6e+05    6.98e+05\n",
      "Japanese     1.02e+07   2.25e+06      4.536      0.000    5.76e+06    1.46e+07\n",
      "Dominican    9.88e+05   6.93e+05      1.426      0.155   -3.78e+05    2.35e+06\n",
      "HR          2.126e+05   2.22e+04      9.574      0.000    1.69e+05    2.56e+05\n",
      "League     -3.304e+05   4.53e+05     -0.729      0.467   -1.22e+06    5.64e+05\n",
      "Position   -7.805e+05   2.91e+05     -2.679      0.008   -1.36e+06   -2.06e+05\n",
      "==============================================================================\n",
      "Omnibus:                       67.683   Durbin-Watson:                   2.013\n",
      "Prob(Omnibus):                  0.000   Jarque-Bera (JB):              247.678\n",
      "Skew:                           1.321   Prob(JB):                     1.65e-54\n",
      "Kurtosis:                       7.769   Cond. No.                         157.\n",
      "==============================================================================\n",
      "\n",
      "Warnings:\n",
      "[1] Standard Errors assume that the covariance matrix of the errors is correctly specified.\n",
      "\n",
      "===Delete variable League of the p value 0.46716984744085566===\n",
      "                            OLS Regression Results                            \n",
      "==============================================================================\n",
      "Dep. Variable:                 Salary   R-squared:                       0.592\n",
      "Model:                            OLS   Adj. R-squared:                  0.582\n",
      "Method:                 Least Squares   F-statistic:                     56.32\n",
      "Date:                Mon, 05 Mar 2018   Prob (F-statistic):           5.63e-36\n",
      "Time:                        22:49:21   Log-Likelihood:                -3273.6\n",
      "No. Observations:                 200   AIC:                             6559.\n",
      "Df Residuals:                     194   BIC:                             6579.\n",
      "Df Model:                           5                                         \n",
      "Covariance Type:            nonrobust                                         \n",
      "==============================================================================\n",
      "                 coef    std err          t      P>|t|      [0.025      0.975]\n",
      "------------------------------------------------------------------------------\n",
      "Intercept   1.182e+05    6.2e+05      0.191      0.849    -1.1e+06    1.34e+06\n",
      "Experience  5.771e+05   6.02e+04      9.590      0.000    4.58e+05    6.96e+05\n",
      "Japanese    1.017e+07   2.25e+06      4.529      0.000    5.74e+06    1.46e+07\n",
      "Dominican   9.617e+05   6.91e+05      1.392      0.166   -4.01e+05    2.32e+06\n",
      "HR          2.122e+05   2.22e+04      9.569      0.000    1.68e+05    2.56e+05\n",
      "Position    -7.86e+05   2.91e+05     -2.702      0.008   -1.36e+06   -2.12e+05\n",
      "==============================================================================\n",
      "Omnibus:                       65.147   Durbin-Watson:                   1.985\n",
      "Prob(Omnibus):                  0.000   Jarque-Bera (JB):              226.115\n",
      "Skew:                           1.287   Prob(JB):                     7.94e-50\n",
      "Kurtosis:                       7.529   Cond. No.                         157.\n",
      "==============================================================================\n",
      "\n",
      "Warnings:\n",
      "[1] Standard Errors assume that the covariance matrix of the errors is correctly specified.\n",
      "\n",
      "===Delete variable Dominican of the p value 0.16556471816330834===\n",
      "                            OLS Regression Results                            \n",
      "==============================================================================\n",
      "Dep. Variable:                 Salary   R-squared:                       0.588\n",
      "Model:                            OLS   Adj. R-squared:                  0.580\n",
      "Method:                 Least Squares   F-statistic:                     69.59\n",
      "Date:                Mon, 05 Mar 2018   Prob (F-statistic):           1.64e-36\n",
      "Time:                        22:49:21   Log-Likelihood:                -3274.6\n",
      "No. Observations:                 200   AIC:                             6559.\n",
      "Df Residuals:                     195   BIC:                             6576.\n",
      "Df Model:                           4                                         \n",
      "Covariance Type:            nonrobust                                         \n",
      "==============================================================================\n",
      "                 coef    std err          t      P>|t|      [0.025      0.975]\n",
      "------------------------------------------------------------------------------\n",
      "Intercept    2.26e+05   6.17e+05      0.366      0.714    -9.9e+05    1.44e+06\n",
      "Experience   5.85e+05   6.01e+04      9.741      0.000    4.67e+05    7.03e+05\n",
      "Japanese    1.006e+07   2.25e+06      4.474      0.000    5.63e+06    1.45e+07\n",
      "HR          2.125e+05   2.22e+04      9.564      0.000    1.69e+05    2.56e+05\n",
      "Position   -8.025e+05   2.91e+05     -2.754      0.006   -1.38e+06   -2.28e+05\n",
      "==============================================================================\n",
      "Omnibus:                       63.182   Durbin-Watson:                   1.998\n",
      "Prob(Omnibus):                  0.000   Jarque-Bera (JB):              213.623\n",
      "Skew:                           1.255   Prob(JB):                     4.10e-47\n",
      "Kurtosis:                       7.397   Cond. No.                         157.\n",
      "==============================================================================\n",
      "\n",
      "Warnings:\n",
      "[1] Standard Errors assume that the covariance matrix of the errors is correctly specified.\n"
     ]
    }
   ],
   "source": [
    "variable_names = mlb_01.columns.values\n",
    "variable_names = np.delete(variable_names, 0)  # remove 'Salary' from variable names\n",
    "alpha = 0.05\n",
    "model = smf.ols(\"Salary ~ \" + \" + \".join(variable_names), data = mlb_01).fit()\n",
    "p_values = model.pvalues.drop('Intercept')\n",
    "print(model.summary())\n",
    "variable_with_large_pvalues = p_values[p_values > alpha]\n",
    "while len(variable_with_large_pvalues) > 0:\n",
    "    variable_to_remove = variable_with_large_pvalues.idxmax()\n",
    "    print(\"\")\n",
    "    print(\"===Delete variable {} of the p value {}===\".format(variable_to_remove, variable_with_large_pvalues.max()))\n",
    "    index = np.argwhere(variable_names==variable_to_remove)\n",
    "    variable_names = np.delete(variable_names, index)\n",
    "    model = smf.ols(\"Salary ~ \" + \" + \".join(variable_names), data = mlb_01).fit()\n",
    "    p_values = model.pvalues.drop('Intercept')\n",
    "    variable_with_large_pvalues = p_values[p_values > 0.05]\n",
    "    print(model.summary())"
   ]
  },
  {
   "cell_type": "code",
   "execution_count": 44,
   "metadata": {},
   "outputs": [],
   "source": [
    "# Traditional way of conveying the backword elimination.\n",
    "# model = smf.ols('Salary ~ Experience + Japanese + Dominican + HR + League + Position', data = mlb_01).fit()\n",
    "# print(model.summary())\n",
    "# print(model.pvalues)\n",
    "# model = smf.ols('Salary ~ Experience + Japanese + Dominican + HR + Position', data = mlb_01).fit()\n",
    "# print(model.summary())\n",
    "# model = smf.ols('Salary ~ Experience + Japanese + HR + Position', data = mlb_01).fit()\n",
    "# print(model.summary())"
   ]
  },
  {
   "cell_type": "markdown",
   "metadata": {},
   "source": [
    "(3)Based on the model of `Salary` ~ `Experience + Japanese + HR + Position`, test polynomial terms. Since `Japanese` is a binary predictore variable, `Position` is also categorical variables, we do not take the order of `Japanese` and `Position` when test polynomial terms, in order to make the process simpler."
   ]
  },
  {
   "cell_type": "markdown",
   "metadata": {},
   "source": [
    "(4)Regress `Salary` on `Experience + np.square(Experience) + Japanese + HR + Position`, notice a slightly higher R-squared, yet the gap between $R^2$ and $R^2_a$ increases compared to previous step. And also the term $(Experience)^2$ has insignificant pvalue, so drop $(Experience)^2$."
   ]
  },
  {
   "cell_type": "code",
   "execution_count": 76,
   "metadata": {
    "scrolled": true
   },
   "outputs": [
    {
     "name": "stdout",
     "output_type": "stream",
     "text": [
      "                            OLS Regression Results                            \n",
      "==============================================================================\n",
      "Dep. Variable:                 Salary   R-squared:                       0.595\n",
      "Model:                            OLS   Adj. R-squared:                  0.585\n",
      "Method:                 Least Squares   F-statistic:                     57.09\n",
      "Date:                Mon, 05 Mar 2018   Prob (F-statistic):           2.62e-36\n",
      "Time:                        22:49:34   Log-Likelihood:                -3272.8\n",
      "No. Observations:                 200   AIC:                             6558.\n",
      "Df Residuals:                     194   BIC:                             6577.\n",
      "Df Model:                           5                                         \n",
      "Covariance Type:            nonrobust                                         \n",
      "=========================================================================================\n",
      "                            coef    std err          t      P>|t|      [0.025      0.975]\n",
      "-----------------------------------------------------------------------------------------\n",
      "Intercept             -2.396e+05   6.61e+05     -0.362      0.717   -1.54e+06    1.06e+06\n",
      "Experience             8.629e+05    1.6e+05      5.395      0.000    5.47e+05    1.18e+06\n",
      "np.square(Experience) -2.109e+04   1.13e+04     -1.873      0.063   -4.33e+04    1118.434\n",
      "Japanese               9.937e+06   2.24e+06      4.444      0.000    5.53e+06    1.43e+07\n",
      "HR                     2.036e+05   2.26e+04      9.007      0.000    1.59e+05    2.48e+05\n",
      "Position              -7.555e+05   2.91e+05     -2.600      0.010   -1.33e+06   -1.82e+05\n",
      "==============================================================================\n",
      "Omnibus:                       66.463   Durbin-Watson:                   1.959\n",
      "Prob(Omnibus):                  0.000   Jarque-Bera (JB):              207.349\n",
      "Skew:                           1.362   Prob(JB):                     9.44e-46\n",
      "Kurtosis:                       7.178   Cond. No.                         645.\n",
      "==============================================================================\n",
      "\n",
      "Warnings:\n",
      "[1] Standard Errors assume that the covariance matrix of the errors is correctly specified.\n"
     ]
    }
   ],
   "source": [
    "model = smf.ols('Salary ~ Experience + np.square(Experience) + Japanese + HR + Position', data = mlb_01).fit()\n",
    "print(model.summary())"
   ]
  },
  {
   "cell_type": "markdown",
   "metadata": {},
   "source": [
    "(5)Regress `Salary` on `Experience + Japanese + HR + np.square(HR) + Position`, notice the gap between $R^2$ and $R^2_a$ is even greater, and pvalues of `HR` and ${HR}^2$ drops below significant value, become 0.098 and 0.072. So abandon this model."
   ]
  },
  {
   "cell_type": "code",
   "execution_count": 77,
   "metadata": {},
   "outputs": [
    {
     "name": "stdout",
     "output_type": "stream",
     "text": [
      "                            OLS Regression Results                            \n",
      "==============================================================================\n",
      "Dep. Variable:                 Salary   R-squared:                       0.595\n",
      "Model:                            OLS   Adj. R-squared:                  0.584\n",
      "Method:                 Least Squares   F-statistic:                     56.97\n",
      "Date:                Mon, 05 Mar 2018   Prob (F-statistic):           2.93e-36\n",
      "Time:                        22:49:38   Log-Likelihood:                -3272.9\n",
      "No. Observations:                 200   AIC:                             6558.\n",
      "Df Residuals:                     194   BIC:                             6578.\n",
      "Df Model:                           5                                         \n",
      "Covariance Type:            nonrobust                                         \n",
      "=================================================================================\n",
      "                    coef    std err          t      P>|t|      [0.025      0.975]\n",
      "---------------------------------------------------------------------------------\n",
      "Intercept       4.63e+05   6.27e+05      0.738      0.461   -7.74e+05     1.7e+06\n",
      "Experience     5.894e+05   5.98e+04      9.863      0.000    4.72e+05    7.07e+05\n",
      "Japanese       1.037e+07   2.24e+06      4.622      0.000    5.94e+06    1.48e+07\n",
      "HR             1.053e+05   6.33e+04      1.665      0.098   -1.95e+04     2.3e+05\n",
      "np.square(HR)  3349.7900   1851.279      1.809      0.072    -301.428    7001.008\n",
      "Position      -7.222e+05   2.93e+05     -2.464      0.015    -1.3e+06   -1.44e+05\n",
      "==============================================================================\n",
      "Omnibus:                       68.622   Durbin-Watson:                   2.020\n",
      "Prob(Omnibus):                  0.000   Jarque-Bera (JB):              279.813\n",
      "Skew:                           1.297   Prob(JB):                     1.74e-61\n",
      "Kurtosis:                       8.182   Cond. No.                     4.25e+03\n",
      "==============================================================================\n",
      "\n",
      "Warnings:\n",
      "[1] Standard Errors assume that the covariance matrix of the errors is correctly specified.\n",
      "[2] The condition number is large, 4.25e+03. This might indicate that there are\n",
      "strong multicollinearity or other numerical problems.\n"
     ]
    }
   ],
   "source": [
    "model = smf.ols('Salary ~ Experience + Japanese + HR + np.square(HR) + Position', data = mlb_01).fit()\n",
    "print(model.summary())"
   ]
  },
  {
   "cell_type": "markdown",
   "metadata": {},
   "source": [
    "(6)Regress `Salary` on `Experience + Experience*HR + Japanese + HR + Position`, adding interaction term `Experience * HR`, notice a higher $R^2$ value and a relatively small gap between $R^2$ and $R^2_a$, with all the pvalues being significant, so this could be better fitted regression model. "
   ]
  },
  {
   "cell_type": "code",
   "execution_count": 78,
   "metadata": {
    "scrolled": true
   },
   "outputs": [
    {
     "name": "stdout",
     "output_type": "stream",
     "text": [
      "                            OLS Regression Results                            \n",
      "==============================================================================\n",
      "Dep. Variable:                 Salary   R-squared:                       0.664\n",
      "Model:                            OLS   Adj. R-squared:                  0.655\n",
      "Method:                 Least Squares   F-statistic:                     76.55\n",
      "Date:                Mon, 05 Mar 2018   Prob (F-statistic):           5.03e-44\n",
      "Time:                        22:49:42   Log-Likelihood:                -3254.3\n",
      "No. Observations:                 200   AIC:                             6521.\n",
      "Df Residuals:                     194   BIC:                             6540.\n",
      "Df Model:                           5                                         \n",
      "Covariance Type:            nonrobust                                         \n",
      "=================================================================================\n",
      "                    coef    std err          t      P>|t|      [0.025      0.975]\n",
      "---------------------------------------------------------------------------------\n",
      "Intercept      1.327e+06   5.83e+05      2.276      0.024    1.77e+05    2.48e+06\n",
      "Experience     2.771e+05   7.17e+04      3.867      0.000    1.36e+05    4.18e+05\n",
      "HR             6.287e+04   3.03e+04      2.074      0.039    3076.493    1.23e+05\n",
      "Experience:HR  2.917e+04   4418.369      6.603      0.000    2.05e+04    3.79e+04\n",
      "Japanese       1.035e+07   2.04e+06      5.080      0.000    6.33e+06    1.44e+07\n",
      "Position      -7.155e+05   2.64e+05     -2.707      0.007   -1.24e+06   -1.94e+05\n",
      "==============================================================================\n",
      "Omnibus:                       83.644   Durbin-Watson:                   2.001\n",
      "Prob(Omnibus):                  0.000   Jarque-Bera (JB):              579.006\n",
      "Skew:                           1.413   Prob(JB):                    1.86e-126\n",
      "Kurtosis:                      10.842   Cond. No.                     1.07e+03\n",
      "==============================================================================\n",
      "\n",
      "Warnings:\n",
      "[1] Standard Errors assume that the covariance matrix of the errors is correctly specified.\n",
      "[2] The condition number is large, 1.07e+03. This might indicate that there are\n",
      "strong multicollinearity or other numerical problems.\n"
     ]
    }
   ],
   "source": [
    "model = smf.ols('Salary ~ Experience + Experience*HR + Japanese + HR + Position', data = mlb_01).fit()\n",
    "print(model.summary())"
   ]
  },
  {
   "cell_type": "markdown",
   "metadata": {},
   "source": [
    "(7)For further verification, add $Experience^2$ and $HR^2$ to model, notice that there are pvalues greater than 0.05, so we stick with previous value in step 6."
   ]
  },
  {
   "cell_type": "code",
   "execution_count": 79,
   "metadata": {},
   "outputs": [
    {
     "name": "stdout",
     "output_type": "stream",
     "text": [
      "                            OLS Regression Results                            \n",
      "==============================================================================\n",
      "Dep. Variable:                 Salary   R-squared:                       0.694\n",
      "Model:                            OLS   Adj. R-squared:                  0.682\n",
      "Method:                 Least Squares   F-statistic:                     62.10\n",
      "Date:                Mon, 05 Mar 2018   Prob (F-statistic):           5.52e-46\n",
      "Time:                        22:49:46   Log-Likelihood:                -3245.0\n",
      "No. Observations:                 200   AIC:                             6506.\n",
      "Df Residuals:                     192   BIC:                             6532.\n",
      "Df Model:                           7                                         \n",
      "Covariance Type:            nonrobust                                         \n",
      "=========================================================================================\n",
      "                            coef    std err          t      P>|t|      [0.025      0.975]\n",
      "-----------------------------------------------------------------------------------------\n",
      "Intercept              6.351e+05   5.89e+05      1.078      0.282   -5.27e+05     1.8e+06\n",
      "Experience             8.453e+05   1.48e+05      5.711      0.000    5.53e+05    1.14e+06\n",
      "HR                    -5.803e+04   6.08e+04     -0.954      0.341   -1.78e+05    6.19e+04\n",
      "Experience:HR          3.258e+04   4459.459      7.305      0.000    2.38e+04    4.14e+04\n",
      "np.square(Experience) -4.557e+04   1.06e+04     -4.316      0.000   -6.64e+04   -2.47e+04\n",
      "np.square(HR)          2624.2291   1728.052      1.519      0.131    -784.174    6032.632\n",
      "Japanese               1.035e+07   1.96e+06      5.281      0.000    6.49e+06    1.42e+07\n",
      "Position              -5.408e+05   2.59e+05     -2.089      0.038   -1.05e+06   -3.02e+04\n",
      "==============================================================================\n",
      "Omnibus:                       92.851   Durbin-Watson:                   1.917\n",
      "Prob(Omnibus):                  0.000   Jarque-Bera (JB):              700.315\n",
      "Skew:                           1.580   Prob(JB):                    8.48e-153\n",
      "Kurtosis:                      11.606   Cond. No.                     4.34e+03\n",
      "==============================================================================\n",
      "\n",
      "Warnings:\n",
      "[1] Standard Errors assume that the covariance matrix of the errors is correctly specified.\n",
      "[2] The condition number is large, 4.34e+03. This might indicate that there are\n",
      "strong multicollinearity or other numerical problems.\n"
     ]
    }
   ],
   "source": [
    "model = smf.ols('Salary ~ Experience + Experience*HR + np.square(Experience)+ np.square(HR) +Japanese + HR + Position', data = mlb_01).fit()\n",
    "print(model.summary())"
   ]
  },
  {
   "cell_type": "markdown",
   "metadata": {},
   "source": [
    "**Conclusion**:   \n",
    "The Regression of `Salary` on `Experience + Experience*HR + Japanese + HR + Position` gives the best fitted model. "
   ]
  },
  {
   "cell_type": "code",
   "execution_count": null,
   "metadata": {},
   "outputs": [],
   "source": []
  }
 ],
 "metadata": {
  "kernelspec": {
   "display_name": "Python 3",
   "language": "python",
   "name": "python3"
  },
  "language_info": {
   "codemirror_mode": {
    "name": "ipython",
    "version": 3
   },
   "file_extension": ".py",
   "mimetype": "text/x-python",
   "name": "python",
   "nbconvert_exporter": "python",
   "pygments_lexer": "ipython3",
   "version": "3.6.4"
  }
 },
 "nbformat": 4,
 "nbformat_minor": 2
}
